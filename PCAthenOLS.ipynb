{
 "cells": [
  {
   "cell_type": "code",
   "execution_count": 11,
   "metadata": {},
   "outputs": [],
   "source": [
    "##################################\n",
    "### Import the usual libraries ###\n",
    "##################################\n",
    "\n",
    "### Numpy\n",
    "import numpy as np\n",
    "\n",
    "### Astropy\n",
    "import astropy\n",
    "\n",
    "#Astropy FITS/Table handling\n",
    "from astropy.io import fits, ascii\n",
    "from astropy.table import Table, Column\n",
    "\n",
    "#astropy coorindates/units\n",
    "from astropy.coordinates import SkyCoord\n",
    "import astropy.constants as const\n",
    "import astropy.units as u\n",
    "\n",
    "### Pandas\n",
    "import pandas as pd\n",
    "\n",
    "### fitting\n",
    "import statsmodels.api as sm\n",
    "\n",
    "### PCA\n",
    "from sklearn.decomposition import PCA\n",
    "\n",
    "### Model generation\n",
    "import itertools as it\n",
    "\n",
    "### Matplotlib\n",
    "import matplotlib\n",
    "import matplotlib.pyplot as plt\n",
    "%matplotlib inline\n",
    "matplotlib.rcParams.update({'font.size': 18}) #make plots more readable\n",
    "\n",
    "# ### Yumi's RA/DEC ---> Magellanic Stream Coorindates\n",
    "import MagellanicStream as ms\n",
    "\n",
    "# ### Functions used in this code\n",
    "import age_functions as afunc\n",
    "\n",
    "### Stuff Writtten by A Really Cool Professor\n",
    "import dlnpyutils as dlpu\n",
    "\n",
    "### Other\n",
    "import warnings\n",
    "warnings.filterwarnings('ignore')\n",
    "\n",
    "from tqdm import tqdm_notebook\n",
    "\n",
    "### Age of Universe\n",
    "H0 = 74.03*(u.km/u.s)/u.Mpc\n",
    "hertz = H0.to(u.km/u.s/u.pc).to(u.km/u.s/u.km)\n",
    "tage = (1/hertz).to(u.yr)\n",
    "ageU = tage.value"
   ]
  },
  {
   "cell_type": "code",
   "execution_count": 2,
   "metadata": {},
   "outputs": [],
   "source": [
    "###################\n",
    "### Import Data ###\n",
    "###################\n",
    "\n",
    "# parsec\n",
    "''' Ages used 8 to 10.1 steps 0.15'''\n",
    "''' Metallicity used -2.6 to 0.1 steps 0.099'''\n",
    "\n",
    "parsecall = ascii.read('/Users/joshpovick/Desktop/Research/LMC_Ages/logisochrones.dat', \\\n",
    "                    format='basic', delimiter='\\s')\n",
    "\n",
    "rgb = np.where(parsecall['label']==3)\n",
    "parsec = parsecall[rgb]\n",
    "\n",
    "# r13\n",
    "r13 = fits.getdata('/Users/joshpovick/Desktop/Research/LMC_Ages/lmc_rgbmembers.r13-l33-58672.fits.gz')\n",
    "cln = np.where((r13['FE_H']>-9999.0)&(r13['AK_TARG']>-100.0)&(r13['LOGG']>=0.0)&\n",
    "                (r13['M_H_ERR']>-100.0)&(r13['C_FE']>-100.0)&(r13['N_FE']>-100.0))\n",
    "r13 = r13[cln]\n",
    "\n",
    "# APOKASC\n",
    "kasc = fits.getdata('/Users/joshpovick/Desktop/Research/LMC_Ages/APOKASC_cat_v6.6.1.fits.gz')\n"
   ]
  },
  {
   "cell_type": "code",
   "execution_count": 3,
   "metadata": {},
   "outputs": [],
   "source": [
    "# Diane's Ages\n",
    "pdfout = fits.getdata('LMC_DR16_all_PDF.fits.gz', 1)\n",
    "xy, r13_ind, pdfout_ind = np.intersect1d(r13['APOGEE_ID'],\n",
    "                                         pdfout['OBJ'],return_indices=True)\n"
   ]
  },
  {
   "cell_type": "code",
   "execution_count": 4,
   "metadata": {},
   "outputs": [
    {
     "name": "stdout",
     "output_type": "stream",
     "text": [
      "[[ 1.          0.74980371 -0.44521252  0.83745811]\n",
      " [ 0.74980371  1.         -0.01432773  0.95941514]\n",
      " [-0.44521252 -0.01432773  1.          0.00178789]\n",
      " [ 0.83745811  0.95941514  0.00178789  1.        ]]\n",
      "---\n"
     ]
    },
    {
     "data": {
      "text/plain": [
       "<matplotlib.lines.Line2D at 0x1238e47b8>"
      ]
     },
     "execution_count": 4,
     "metadata": {},
     "output_type": "execute_result"
    },
    {
     "data": {
      "image/png": "[encoded data removed]",
      "text/plain": [
       "<Figure size 432x288 with 1 Axes>"
      ]
     },
     "metadata": {
      "needs_background": "light"
     },
     "output_type": "display_data"
    }
   ],
   "source": [
    "from numpy.linalg import eig\n",
    "\n",
    "lt = parsec['logTe']\n",
    "k = parsec['Ksmag']\n",
    "feh = np.log10(parsec['Zini']/0.02)\n",
    "lg  = parsec['logg']\n",
    "ltk = np.multiply(lt,k)\n",
    "ltfeh = np.multiply(lt,feh)\n",
    "ltlg = np.multiply(lt,lg)\n",
    "kfeh = np.multiply(k,feh)\n",
    "klg = np.multiply(k,lg)\n",
    "fehlg = np.multiply(feh,lg)\n",
    "lt2 = lt**2\n",
    "k2 = k**2\n",
    "feh2 = feh**2\n",
    "lg2 = lg**2\n",
    "\n",
    "print(np.corrcoef(np.array([lt,k,feh,lg])))\n",
    "\n",
    "print('---')\n",
    "\n",
    "# print(eig(np.corrcoef(np.array([lt,k,feh,lg]))))\n",
    "w,v = eig(np.corrcoef(np.array([lt,k,feh,lg])))\n",
    "\n",
    "plt.scatter([1,2,3,4],w)\n",
    "plt.axhline(1.0)\n",
    "\n"
   ]
  },
  {
   "cell_type": "code",
   "execution_count": 27,
   "metadata": {},
   "outputs": [
    {
     "name": "stdout",
     "output_type": "stream",
     "text": [
      "[0.84790777 0.14345444 0.00861556]\n",
      "[[ 1.72437172e-02  2.36449279e-02  9.25881632e-02]\n",
      " [ 9.27928798e-01 -6.78449769e-04 -3.72293882e-01]\n",
      " [-6.06925467e-03 -9.99596914e-01 -1.20598500e-02]\n",
      " [ 3.72308964e-01 -1.56992771e-02  9.23406334e-01]]\n"
     ]
    }
   ],
   "source": [
    "pca = PCA(n_components=3)\n",
    "\n",
    "X = np.array([lt,k,feh,lg]).T\n",
    "factor=pca.fit(X)\n",
    "\n",
    "print(factor.explained_variance_ratio_)\n",
    "\n",
    "print(factor.components_.T)\n",
    "\n",
    "new_data = np.dot(X,factor.components_.T)"
   ]
  },
  {
   "cell_type": "code",
   "execution_count": 28,
   "metadata": {},
   "outputs": [],
   "source": [
    "y1 = new_data[:,0]\n",
    "y2 = new_data[:,1]\n",
    "y3 = new_data[:,2]\n",
    "\n",
    "y12 = np.multiply(y1,y2)\n",
    "y13 = np.multiply(y1,y3)\n",
    "y23 = np.multiply(y2,y3)\n",
    " \n",
    "y1sq = y1**2\n",
    "y2sq = y2**2\n",
    "y3sq = y3**2\n",
    "\n",
    "y1cu = y1**3\n",
    "y2cu = y2**3\n",
    "y3cu = y3**3\n",
    "\n",
    "models = []\n",
    "models_str = []\n",
    "all_var_str = ['y1','y2','y3','y12','y13','y23','y1sq','y2sq','y3sq','y1cu','y2cu','y3cu']\n",
    "all_var = [y1,y2,y3,y12,y13,y23,y1sq,y2sq,y3sq,y1cu,y2cu,y3cu]\n",
    "for i in range(4, len(all_var)+1):\n",
    "    for subset in it.combinations(all_var,i):\n",
    "        models.append(subset)\n",
    "    for subset_str in it.combinations(all_var_str,i):\n",
    "        models_str.append(np.array(subset_str))\n",
    "    \n",
    "# idx = []\n",
    "# for j in range(len(models_str)):\n",
    "#     if models_str[j][0]=='lt' and models_str[j][1]=='k' and models_str[j][2]=='feh' and models_str[j][3]=='lg':\n",
    "#         idx.append(j)\n",
    "        \n",
    "models = np.array(models)#[idx]\n",
    "models_str = np.array(models_str)#[idx]"
   ]
  },
  {
   "cell_type": "code",
   "execution_count": 29,
   "metadata": {},
   "outputs": [
    {
     "data": {
      "application/vnd.jupyter.widget-view+json": {
       "model_id": "637b7c716cc542b1bcc8290d7a2c6725",
       "version_major": 2,
       "version_minor": 0
      },
      "text/plain": [
       "HBox(children=(IntProgress(value=0, description='Done?', max=3797, style=ProgressStyle(description_width='init…"
      ]
     },
     "metadata": {},
     "output_type": "display_data"
    },
    {
     "name": "stdout",
     "output_type": "stream",
     "text": [
      "\n"
     ]
    }
   ],
   "source": [
    "######################\n",
    "### Fit All Models ###\n",
    "######################\n",
    "\n",
    "import statsmodels.api as sm \n",
    "\n",
    "all_params = []\n",
    "max_resid = []\n",
    "gtest = []\n",
    "mads = []\n",
    "lae = []\n",
    "stde = []\n",
    "resids = []\n",
    "predict = []\n",
    "for i in tqdm_notebook(range(len(models)),desc='Done?'):\n",
    "    pmodl = np.array(models[i]).T\n",
    "    pmodl = sm.add_constant(pmodl)\n",
    "    model = sm.OLS(parsec['logAge'],pmodl).fit()\n",
    "    predictions = model.predict(pmodl)\n",
    "    predict.append(predictions)\n",
    "    residual = predictions - parsec['logAge']\n",
    "    resids.append(residual)\n",
    "    all_params.append(np.asarray(model.params))\n",
    "    max_resid.append(np.max(np.absolute(residual)))\n",
    "    gtest.append(2*np.sum(predictions*np.log(np.divide(predictions,parsec['logAge']))))\n",
    "    mads.append(afunc.mad(residual))\n",
    "    lae.append(np.sum(np.absolute(residual)))\n",
    "    stde.append(model.bse)"
   ]
  },
  {
   "cell_type": "code",
   "execution_count": 32,
   "metadata": {},
   "outputs": [
    {
     "name": "stdout",
     "output_type": "stream",
     "text": [
      "['y1' 'y2' 'y3' 'y12' 'y13' 'y23' 'y1sq' 'y2sq' 'y3sq' 'y2cu']\n"
     ]
    },
    {
     "data": {
      "image/png": "[encoded data removed]",
      "text/plain": [
       "<Figure size 432x288 with 1 Axes>"
      ]
     },
     "metadata": {
      "needs_background": "light"
     },
     "output_type": "display_data"
    },
    {
     "name": "stdout",
     "output_type": "stream",
     "text": [
      "['y1' 'y2' 'y3' 'y12' 'y13' 'y23' 'y2sq' 'y3sq' 'y1cu' 'y3cu']\n"
     ]
    },
    {
     "data": {
      "image/png": "[encoded data removed]",
      "text/plain": [
       "<Figure size 432x288 with 1 Axes>"
      ]
     },
     "metadata": {
      "needs_background": "light"
     },
     "output_type": "display_data"
    }
   ],
   "source": [
    "plt.hist(mads)\n",
    "print(models_str[np.asarray(mads).argmin()])\n",
    "plt.show()\n",
    "\n",
    "\n",
    "plt.hist(max_resid)\n",
    "print(models_str[np.asarray(max_resid).argmin()])\n",
    "plt.show()"
   ]
  },
  {
   "cell_type": "code",
   "execution_count": 149,
   "metadata": {
    "collapsed": true
   },
   "outputs": [
    {
     "name": "stdout",
     "output_type": "stream",
     "text": [
      "[4, 4, 4, 4, 4, 4, 4, 4, 4, 4, 4, 4, 4, 4, 4, 4, 4, 4, 4, 4, 4, 4, 4, 4, 4, 4, 4, 4, 4, 4, 4, 4, 4, 4, 4, 4, 4, 4, 4, 4, 4, 4, 4, 4, 4, 4, 4, 4, 4, 4, 4, 4, 4, 4, 4, 4, 4, 4, 4, 4, 4, 4, 4, 4, 4, 4, 4, 4, 4, 4, 4, 4, 4, 4, 4, 4, 4, 4, 4, 4, 4, 4, 4, 4, 4, 4, 4, 4, 4, 4, 4, 4, 4, 4, 4, 4, 4, 4, 4, 4, 4, 4, 4, 4, 4, 4, 4, 4, 4, 4, 4, 4, 4, 4, 4, 4, 4, 4, 4, 4, 4, 4, 4, 4, 4, 4, 4, 4, 4, 4, 4, 4, 4, 4, 4, 4, 4, 4, 4, 4, 4, 4, 4, 4, 4, 4, 4, 4, 4, 4, 4, 4, 4, 4, 4, 4, 4, 4, 4, 4, 4, 4, 4, 4, 4, 4, 4, 4, 4, 4, 4, 4, 4, 4, 4, 4, 4, 4, 4, 4, 4, 4, 4, 4, 4, 4, 4, 4, 4, 4, 4, 4, 4, 4, 4, 4, 4, 4, 4, 4, 4, 4, 4, 4, 4, 4, 4, 4, 4, 4, 4, 4, 4, 4, 4, 4, 4, 4, 4, 4, 4, 4, 4, 4, 4, 4, 4, 4, 4, 4, 4, 4, 4, 4, 4, 4, 4, 5, 5, 5, 5, 5, 5, 5, 5, 5, 5, 5, 5, 5, 5, 5, 5, 5, 5, 5, 5, 5, 5, 5, 5, 5, 5, 5, 5, 5, 5, 5, 5, 5, 5, 5, 5, 5, 5, 5, 5, 5, 5, 5, 5, 5, 5, 5, 5, 5, 5, 5, 5, 5, 5, 5, 5, 5, 5, 5, 5, 5, 5, 5, 5, 5, 5, 5, 5, 5, 5, 5, 5, 5, 5, 5, 5, 5, 5, 5, 5, 5, 5, 5, 5, 5, 5, 5, 5, 5, 5, 5, 5, 5, 5, 5, 5, 5, 5, 5, 5, 5, 5, 5, 5, 5, 5, 5, 5, 5, 5, 5, 5, 5, 5, 5, 5, 5, 5, 5, 5, 5, 5, 5, 5, 5, 5, 5, 5, 5, 5, 5, 5, 5, 5, 5, 5, 5, 5, 5, 5, 5, 5, 5, 5, 5, 5, 5, 5, 5, 5, 5, 5, 5, 5, 5, 5, 5, 5, 5, 5, 5, 5, 5, 5, 5, 5, 5, 5, 5, 5, 5, 5, 5, 5, 5, 5, 5, 5, 5, 5, 5, 5, 5, 5, 5, 5, 5, 5, 5, 5, 5, 5, 5, 5, 5, 5, 5, 5, 5, 5, 5, 5, 5, 5, 5, 5, 5, 5, 5, 5, 5, 5, 5, 5, 5, 5, 5, 5, 5, 5, 5, 5, 5, 5, 5, 5, 5, 5, 5, 5, 5, 5, 5, 5, 5, 5, 5, 5, 5, 5, 5, 5, 5, 5, 5, 5, 5, 5, 5, 5, 5, 5, 5, 5, 5, 5, 5, 5, 5, 5, 5, 5, 5, 5, 5, 5, 5, 5, 5, 5, 5, 5, 5, 5, 5, 5, 5, 5, 5, 5, 5, 5, 5, 5, 5, 5, 5, 5, 5, 5, 5, 5, 5, 5, 5, 5, 5, 5, 5, 5, 5, 5, 5, 5, 5, 5, 5, 5, 5, 5, 5, 5, 5, 5, 5, 5, 5, 5, 5, 5, 5, 5, 5, 5, 5, 5, 5, 5, 5, 5, 5, 5, 5, 5, 5, 5, 5, 5, 5, 5, 5, 5, 5, 5, 5, 5, 5, 5, 5, 5, 5, 5, 5, 5, 5, 5, 5, 5, 5, 5, 5, 5, 5, 5, 5, 5, 5, 5, 5, 5, 5, 5, 5, 5, 5, 5, 5, 5, 5, 5, 5, 5, 5, 5, 5, 5, 5, 5, 5, 5, 5, 5, 5, 5, 5, 5, 5, 5, 5, 5, 5, 5, 5, 5, 5, 5, 5, 5, 5, 5, 5, 5, 5, 5, 5, 5, 5, 5, 5, 5, 5, 5, 5, 5, 5, 5, 5, 5, 5, 5, 5, 5, 5, 5, 5, 5, 5, 5, 5, 5, 5, 5, 5, 5, 5, 5, 5, 5, 5, 5, 5, 5, 5, 5, 5, 5, 5, 5, 5, 5, 5, 5, 5, 5, 5, 5, 5, 5, 5, 5, 5, 5, 5, 5, 5, 5, 5, 5, 5, 5, 5, 5, 5, 5, 5, 5, 5, 5, 5, 5, 5, 5, 5, 5, 5, 5, 5, 5, 5, 5, 5, 5, 5, 5, 5, 5, 5, 5, 5, 5, 5, 5, 5, 5, 5, 5, 5, 5, 5, 5, 6, 6, 6, 6, 6, 6, 6, 6, 6, 6, 6, 6, 6, 6, 6, 6, 6, 6, 6, 6, 6, 6, 6, 6, 6, 6, 6, 6, 6, 6, 6, 6, 6, 6, 6, 6, 6, 6, 6, 6, 6, 6, 6, 6, 6, 6, 6, 6, 6, 6, 6, 6, 6, 6, 6, 6, 6, 6, 6, 6, 6, 6, 6, 6, 6, 6, 6, 6, 6, 6, 6, 6, 6, 6, 6, 6, 6, 6, 6, 6, 6, 6, 6, 6, 6, 6, 6, 6, 6, 6, 6, 6, 6, 6, 6, 6, 6, 6, 6, 6, 6, 6, 6, 6, 6, 6, 6, 6, 6, 6, 6, 6, 6, 6, 6, 6, 6, 6, 6, 6, 6, 6, 6, 6, 6, 6, 6, 6, 6, 6, 6, 6, 6, 6, 6, 6, 6, 6, 6, 6, 6, 6, 6, 6, 6, 6, 6, 6, 6, 6, 6, 6, 6, 6, 6, 6, 6, 6, 6, 6, 6, 6, 6, 6, 6, 6, 6, 6, 6, 6, 6, 6, 6, 6, 6, 6, 6, 6, 6, 6, 6, 6, 6, 6, 6, 6, 6, 6, 6, 6, 6, 6, 6, 6, 6, 6, 6, 6, 6, 6, 6, 6, 6, 6, 6, 6, 6, 6, 6, 6, 6, 6, 6, 6, 6, 6, 6, 6, 6, 6, 6, 6, 6, 6, 6, 6, 6, 6, 6, 6, 6, 6, 6, 6, 6, 6, 6, 6, 6, 6, 6, 6, 6, 6, 6, 6, 6, 6, 6, 6, 6, 6, 6, 6, 6, 6, 6, 6, 6, 6, 6, 6, 6, 6, 6, 6, 6, 6, 6, 6, 6, 6, 6, 6, 6, 6, 6, 6, 6, 6, 6, 6, 6, 6, 6, 6, 6, 6, 6, 6, 6, 6, 6, 6, 6, 6, 6, 6, 6, 6, 6, 6, 6, 6, 6, 6, 6, 6, 6, 6, 6, 6, 6, 6, 6, 6, 6, 6, 6, 6, 6, 6, 6, 6, 6, 6, 6, 6, 6, 6, 6, 6, 6, 6, 6, 6, 6, 6, 6, 6, 6, 6, 6, 6, 6, 6, 6, 6, 6, 6, 6, 6, 6, 6, 6, 6, 6, 6, 6, 6, 6, 6, 6, 6, 6, 6, 6, 6, 6, 6, 6, 6, 6, 6, 6, 6, 6, 6, 6, 6, 6, 6, 6, 6, 6, 6, 6, 6, 6, 6, 6, 6, 6, 6, 6, 6, 6, 6, 6, 6, 6, 6, 6, 6, 6, 6, 6, 6, 6, 6, 6, 6, 6, 6, 6, 6, 6, 6, 6, 6, 6, 6, 6, 6, 6, 6, 6, 6, 6, 6, 6, 6, 6, 6, 6, 6, 6, 6, 6, 6, 6, 6, 6, 6, 6, 6, 6, 6, 6, 6, 6, 6, 6, 6, 6, 6, 6, 6, 6, 6, 6, 6, 6, 6, 6, 6, 6, 6, 6, 6, 6, 6, 6, 6, 6, 6, 6, 6, 6, 6, 6, 6, 6, 6, 6, 6, 6, 6, 6, 6, 6, 6, 6, 6, 6, 6, 6, 6, 6, 6, 6, 6, 6, 6, 6, 6, 6, 6, 6, 6, 6, 6, 6, 6, 6, 6, 6, 6, 6, 6, 6, 6, 6, 6, 6, 6, 6, 6, 6, 6, 6, 6, 6, 6, 6, 6, 6, 6, 6, 6, 6, 6, 6, 6, 6, 6, 6, 6, 6, 6, 6, 6, 6, 6, 6, 6, 6, 6, 6, 6, 6, 6, 6, 6, 6, 6, 6, 6, 6, 6, 6, 6, 6, 6, 6, 6, 6, 6, 6, 6, 6, 6, 6, 6, 6, 6, 6, 6, 6, 6, 6, 6, 6, 6, 6, 6, 6, 6, 6, 6, 6, 6, 6, 6, 6, 6, 6, 6, 6, 6, 6, 6, 6, 6, 6, 6, 6, 6, 6, 6, 6, 6, 6, 6, 6, 6, 6, 6, 6, 6, 6, 6, 6, 6, 6, 6, 6, 6, 6, 6, 6, 6, 6, 6, 6, 6, 6, 6, 6, 6, 6, 6, 6, 6, 6, 6, 6, 6, 6, 6, 6, 6, 6, 6, 6, 6, 6, 6, 6, 6, 6, 6, 6, 6, 6, 6, 6, 6, 6, 6, 6, 6, 6, 6, 6, 6, 6, 6, 6, 6, 6, 6, 6, 6, 6, 6, 6, 6, 6, 6, 6, 6, 6, 6, 6, 6, 6, 6, 6, 6, 6, 6, 6, 6, 6, 6, 6, 6, 6, 6, 6, 6, 6, 6, 6, 6, 6, 6, 6, 6, 6, 6, 6, 6, 6, 6, 6, 6, 6, 6, 6, 6, 6, 6, 6, 6, 6, 6, 6, 6, 6, 6, 6, 7, 7, 7, 7, 7, 7, 7, 7, 7, 7, 7, 7, 7, 7, 7, 7, 7, 7, 7, 7, 7, 7, 7, 7, 7, 7, 7, 7, 7, 7, 7, 7, 7, 7, 7, 7, 7, 7, 7, 7, 7, 7, 7, 7, 7, 7, 7, 7, 7, 7, 7, 7, 7, 7, 7, 7, 7, 7, 7, 7, 7, 7, 7, 7, 7, 7, 7, 7, 7, 7, 7, 7, 7, 7, 7, 7, 7, 7, 7, 7, 7, 7, 7, 7, 7, 7, 7, 7, 7, 7, 7, 7, 7, 7, 7, 7, 7, 7, 7, 7, 7, 7, 7, 7, 7, 7, 7, 7, 7, 7, 7, 7, 7, 7, 7, 7, 7, 7, 7, 7, 7, 7, 7, 7, 7, 7, 7, 7, 7, 7, 7, 7, 7, 7, 7, 7, 7, 7, 7, 7, 7, 7, 7, 7, 7, 7, 7, 7, 7, 7, 7, 7, 7, 7, 7, 7, 7, 7, 7, 7, 7, 7, 7, 7, 7, 7, 7, 7, 7, 7, 7, 7, 7, 7, 7, 7, 7, 7, 7, 7, 7, 7, 7, 7, 7, 7, 7, 7, 7, 7, 7, 7, 7, 7, 7, 7, 7, 7, 7, 7, 7, 7, 7, 7, 7, 7, 7, 7, 7, 7, 7, 7, 7, 7, 7, 7, 7, 7, 7, 7, 7, 7, 7, 7, 7, 7, 7, 7, 7, 7, 7, 7, 7, 7, 7, 7, 7, 7, 7, 7, 7, 7, 7, 7, 7, 7, 7, 7, 7, 7, 7, 7, 7, 7, 7, 7, 7, 7, 7, 7, 7, 7, 7, 7, 7, 7, 7, 7, 7, 7, 7, 7, 7, 7, 7, 7, 7, 7, 7, 7, 7, 7, 7, 7, 7, 7, 7, 7, 7, 7, 7, 7, 7, 7, 7, 7, 7, 7, 7, 7, 7, 7, 7, 7, 7, 7, 7, 7, 7, 7, 7, 7, 7, 7, 7, 7, 7, 7, 7, 7, 7, 7, 7, 7, 7, 7, 7, 7, 7, 7, 7, 7, 7, 7, 7, 7, 7, 7, 7, 7, 7, 7, 7, 7, 7, 7, 7, 7, 7, 7, 7, 7, 7, 7, 7, 7, 7, 7, 7, 7, 7, 7, 7, 7, 7, 7, 7, 7, 7, 7, 7, 7, 7, 7, 7, 7, 7, 7, 7, 7, 7, 7, 7, 7, 7, 7, 7, 7, 7, 7, 7, 7, 7, 7, 7, 7, 7, 7, 7, 7, 7, 7, 7, 7, 7, 7, 7, 7, 7, 7, 7, 7, 7, 7, 7, 7, 7, 7, 7, 7, 7, 7, 7, 7, 7, 7, 7, 7, 7, 7, 7, 7, 7, 7, 7, 7, 7, 7, 7, 7, 7, 7, 7, 7, 7, 7, 7, 7, 7, 7, 7, 7, 7, 7, 7, 7, 7, 7, 7, 7, 7, 7, 7, 7, 7, 7, 7, 7, 7, 7, 7, 7, 7, 7, 7, 7, 7, 7, 7, 7, 7, 7, 7, 7, 7, 7, 7, 7, 7, 7, 7, 7, 7, 7, 7, 7, 7, 7, 7, 7, 7, 7, 7, 7, 7, 7, 7, 7, 7, 7, 7, 7, 7, 7, 7, 7, 7, 7, 7, 7, 7, 7, 7, 7, 7, 7, 7, 7, 7, 7, 7, 7, 7, 7, 7, 7, 7, 7, 7, 7, 7, 7, 7, 7, 7, 7, 7, 7, 7, 7, 7, 7, 7, 7, 7, 7, 7, 7, 7, 7, 7, 7, 7, 7, 7, 7, 7, 7, 7, 7, 7, 7, 7, 7, 7, 7, 7, 7, 7, 7, 7, 7, 7, 7, 7, 7, 7, 7, 7, 7, 7, 7, 7, 7, 7, 7, 7, 7, 7, 7, 7, 7, 7, 7, 7, 7, 7, 7, 7, 7, 7, 7, 7, 7, 7, 7, 7, 7, 7, 7, 7, 7, 7, 7, 7, 7, 7, 7, 7, 7, 7, 7, 7, 7, 7, 7, 7, 7, 7, 7, 7, 7, 7, 7, 7, 7, 7, 7, 7, 7, 7, 7, 7, 7, 7, 7, 7, 7, 7, 7, 7, 7, 7, 7, 7, 7, 7, 7, 7, 7, 7, 7, 7, 7, 7, 7, 7, 7, 7, 7, 7, 7, 7, 7, 7, 7, 7, 7, 7, 7, 7, 7, 7, 7, 7, 7, 7, 7, 7, 7, 7, 7, 7, 7, 7, 7, 7, 7, 7, 7, 7, 7, 7, 7, 7, 7, 7, 7, 7, 7, 7, 7, 7, 7, 7, 7, 7, 7, 7, 7, 7, 7, 7, 7, 7, 7, 7, 7, 8, 8, 8, 8, 8, 8, 8, 8, 8, 8, 8, 8, 8, 8, 8, 8, 8, 8, 8, 8, 8, 8, 8, 8, 8, 8, 8, 8, 8, 8, 8, 8, 8, 8, 8, 8, 8, 8, 8, 8, 8, 8, 8, 8, 8, 8, 8, 8, 8, 8, 8, 8, 8, 8, 8, 8, 8, 8, 8, 8, 8, 8, 8, 8, 8, 8, 8, 8, 8, 8, 8, 8, 8, 8, 8, 8, 8, 8, 8, 8, 8, 8, 8, 8, 8, 8, 8, 8, 8, 8, 8, 8, 8, 8, 8, 8, 8, 8, 8, 8, 8, 8, 8, 8, 8, 8, 8, 8, 8, 8, 8, 8, 8, 8, 8, 8, 8, 8, 8, 8, 8, 8, 8, 8, 8, 8, 8, 8, 8, 8, 8, 8, 8, 8, 8, 8, 8, 8, 8, 8, 8, 8, 8, 8, 8, 8, 8, 8, 8, 8, 8, 8, 8, 8, 8, 8, 8, 8, 8, 8, 8, 8, 8, 8, 8, 8, 8, 8, 8, 8, 8, 8, 8, 8, 8, 8, 8, 8, 8, 8, 8, 8, 8, 8, 8, 8, 8, 8, 8, 8, 8, 8, 8, 8, 8, 8, 8, 8, 8, 8, 8, 8, 8, 8, 8, 8, 8, 8, 8, 8, 8, 8, 8, 8, 8, 8, 8, 8, 8, 8, 8, 8, 8, 8, 8, 8, 8, 8, 8, 8, 8, 8, 8, 8, 8, 8, 8, 8, 8, 8, 8, 8, 8, 8, 8, 8, 8, 8, 8, 8, 8, 8, 8, 8, 8, 8, 8, 8, 8, 8, 8, 8, 8, 8, 8, 8, 8, 8, 8, 8, 8, 8, 8, 8, 8, 8, 8, 8, 8, 8, 8, 8, 8, 8, 8, 8, 8, 8, 8, 8, 8, 8, 8, 8, 8, 8, 8, 8, 8, 8, 8, 8, 8, 8, 8, 8, 8, 8, 8, 8, 8, 8, 8, 8, 8, 8, 8, 8, 8, 8, 8, 8, 8, 8, 8, 8, 8, 8, 8, 8, 8, 8, 8, 8, 8, 8, 8, 8, 8, 8, 8, 8, 8, 8, 8, 8, 8, 8, 8, 8, 8, 8, 8, 8, 8, 8, 8, 8, 8, 8, 8, 8, 8, 8, 8, 8, 8, 8, 8, 8, 8, 8, 8, 8, 8, 8, 8, 8, 8, 8, 8, 8, 8, 8, 8, 8, 8, 8, 8, 8, 8, 8, 8, 8, 8, 8, 8, 8, 8, 8, 8, 8, 8, 8, 8, 8, 8, 8, 8, 8, 8, 8, 8, 8, 8, 8, 8, 8, 8, 8, 8, 8, 8, 8, 8, 8, 8, 8, 8, 8, 8, 8, 8, 8, 8, 8, 8, 8, 8, 8, 8, 8, 8, 8, 8, 8, 8, 8, 8, 8, 8, 8, 8, 8, 8, 8, 8, 8, 8, 8, 8, 8, 8, 8, 8, 8, 8, 8, 8, 8, 8, 8, 8, 8, 8, 8, 8, 8, 8, 8, 8, 8, 8, 8, 9, 9, 9, 9, 9, 9, 9, 9, 9, 9, 9, 9, 9, 9, 9, 9, 9, 9, 9, 9, 9, 9, 9, 9, 9, 9, 9, 9, 9, 9, 9, 9, 9, 9, 9, 9, 9, 9, 9, 9, 9, 9, 9, 9, 9, 9, 9, 9, 9, 9, 9, 9, 9, 9, 9, 9, 9, 9, 9, 9, 9, 9, 9, 9, 9, 9, 9, 9, 9, 9, 9, 9, 9, 9, 9, 9, 9, 9, 9, 9, 9, 9, 9, 9, 9, 9, 9, 9, 9, 9, 9, 9, 9, 9, 9, 9, 9, 9, 9, 9, 9, 9, 9, 9, 9, 9, 9, 9, 9, 9, 9, 9, 9, 9, 9, 9, 9, 9, 9, 9, 9, 9, 9, 9, 9, 9, 9, 9, 9, 9, 9, 9, 9, 9, 9, 9, 9, 9, 9, 9, 9, 9, 9, 9, 9, 9, 9, 9, 9, 9, 9, 9, 9, 9, 9, 9, 9, 9, 9, 9, 9, 9, 9, 9, 9, 9, 9, 9, 9, 9, 9, 9, 9, 9, 9, 9, 9, 9, 9, 9, 9, 9, 9, 9, 9, 9, 9, 9, 9, 9, 9, 9, 9, 9, 9, 9, 9, 9, 9, 9, 9, 9, 9, 9, 9, 9, 9, 9, 9, 9, 9, 9, 9, 9, 9, 9, 9, 9, 9, 10, 10, 10, 10, 10, 10, 10, 10, 10, 10, 10, 10, 10, 10, 10, 10, 10, 10, 10, 10, 10, 10, 10, 10, 10, 10, 10, 10, 10, 10, 10, 10, 10, 10, 10, 10, 10, 10, 10, 10, 10, 10, 10, 10, 10, 10, 10, 10, 10, 10, 10, 10, 10, 10, 10, 10, 10, 10, 10, 10, 10, 10, 10, 10, 10, 10, 11, 11, 11, 11, 11, 11, 11, 11, 11, 11, 11, 11, 12]\n",
      "index:  0\n",
      "['y1' 'y2' 'y3' 'y12']\n",
      "index:  1\n",
      "['y1' 'y2' 'y3' 'y13']\n",
      "index:  2\n",
      "['y1' 'y2' 'y3' 'y23']\n",
      "index:  3\n",
      "['y1' 'y2' 'y3' 'y1sq']\n",
      "index:  4\n",
      "['y1' 'y2' 'y3' 'y2sq']\n",
      "index:  5\n",
      "['y1' 'y2' 'y3' 'y3sq']\n",
      "index:  6\n",
      "['y1' 'y2' 'y3' 'y1cu']\n"
     ]
    }
   ],
   "source": [
    "#########################\n",
    "### Find lowest order ###\n",
    "#########################\n",
    "\n",
    "small = np.where(np.asarray(mads)<=0.05)\n",
    "\n",
    "terms = []\n",
    "for i in range(len(models_str[small])):\n",
    "    terms.append(len(models_str[small][i]))\n",
    "    \n",
    "print(terms)\n",
    "for j in range(7):\n",
    "    print('index: ',np.arange(len(models_str))[small][j])\n",
    "    print(models_str[small][j])"
   ]
  },
  {
   "cell_type": "code",
   "execution_count": 148,
   "metadata": {},
   "outputs": [
    {
     "name": "stdout",
     "output_type": "stream",
     "text": [
      "                            OLS Regression Results                            \n",
      "==============================================================================\n",
      "Dep. Variable:                      y   R-squared:                       0.999\n",
      "Model:                            OLS   Adj. R-squared:                  0.999\n",
      "Method:                 Least Squares   F-statistic:                 2.099e+06\n",
      "Date:                Thu, 09 Apr 2020   Prob (F-statistic):               0.00\n",
      "Time:                        21:06:24   Log-Likelihood:                 44648.\n",
      "No. Observations:               16121   AIC:                        -8.927e+04\n",
      "Df Residuals:                   16110   BIC:                        -8.919e+04\n",
      "Df Model:                          10                                         \n",
      "Covariance Type:            nonrobust                                         \n",
      "==============================================================================\n",
      "                 coef    std err          t      P>|t|      [0.025      0.975]\n",
      "------------------------------------------------------------------------------\n",
      "const         28.6268      0.038    752.100      0.000      28.552      28.701\n",
      "x1             0.2716      0.001    207.486      0.000       0.269       0.274\n",
      "x2             0.0531      0.003     17.482      0.000       0.047       0.059\n",
      "x3            -8.6655      0.023   -375.803      0.000      -8.711      -8.620\n",
      "x4            -0.0143    7.6e-05   -188.106      0.000      -0.014      -0.014\n",
      "x5            -0.0647      0.000   -158.002      0.000      -0.066      -0.064\n",
      "x6            -0.0599      0.001    -78.033      0.000      -0.061      -0.058\n",
      "x7            -0.0058    3.1e-05   -188.859      0.000      -0.006      -0.006\n",
      "x8             0.0995      0.001     74.851      0.000       0.097       0.102\n",
      "x9             0.8662      0.004    246.724      0.000       0.859       0.873\n",
      "x10           -0.0201      0.000    -65.532      0.000      -0.021      -0.020\n",
      "==============================================================================\n",
      "Omnibus:                      959.819   Durbin-Watson:                   0.185\n",
      "Prob(Omnibus):                  0.000   Jarque-Bera (JB):             4062.073\n",
      "Skew:                           0.103   Prob(JB):                         0.00\n",
      "Kurtosis:                       5.450   Cond. No.                     6.90e+03\n",
      "==============================================================================\n",
      "\n",
      "Warnings:\n",
      "[1] Standard Errors assume that the covariance matrix of the errors is correctly specified.\n",
      "[2] The condition number is large, 6.9e+03. This might indicate that there are\n",
      "strong multicollinearity or other numerical problems.\n",
      "[ 2.86268298e+01  2.71550357e-01  5.30658653e-02 -8.66546233e+00\n",
      " -1.43014007e-02 -6.47435954e-02 -5.99196415e-02 -5.84656083e-03\n",
      "  9.95109881e-02  8.66227116e-01 -2.01258347e-02]\n"
     ]
    }
   ],
   "source": [
    "parsimonious = np.array([y1, y2, y3, y12, y13, y23, y1sq, y2sq, y3sq, y2cu]).T\n",
    "parsimonious = sm.add_constant(parsimonious)\n",
    "parsimonious_model = sm.OLS(parsec['logAge'],parsimonious).fit()\n",
    "parsimonious_predictions = parsimonious_model.predict(parsimonious)\n",
    "parsimonious_residual = parsimonious_predictions - parsec['logAge']\n",
    "parsimonious_summary = parsimonious_model.summary()\n",
    "print(parsimonious_summary)\n",
    "print(np.asarray(parsimonious_model.params))"
   ]
  },
  {
   "cell_type": "code",
   "execution_count": 43,
   "metadata": {},
   "outputs": [],
   "source": [
    "def find_ages(z1,z2,z3):\n",
    "    p = [1.43760835e+01, 4.08326604e-01, 1.94744805e-02, -1.13168244e-01, -1.69589561e-03, -4.56712415e-01]\n",
    "    return p[0] + p[1]*z1 + p[2]*z2 + p[3]*np.multiply(z1,z3) + p[4]*np.square(z1) + p[5]*np.square(z3)"
   ]
  },
  {
   "cell_type": "code",
   "execution_count": 17,
   "metadata": {},
   "outputs": [
    {
     "ename": "NameError",
     "evalue": "name 'factor' is not defined",
     "output_type": "error",
     "traceback": [
      "\u001b[0;31m---------------------------------------------------------------------------\u001b[0m",
      "\u001b[0;31mNameError\u001b[0m                                 Traceback (most recent call last)",
      "\u001b[0;32m<ipython-input-17-49840a54e71b>\u001b[0m in \u001b[0;36m<module>\u001b[0;34m\u001b[0m\n\u001b[1;32m     53\u001b[0m \u001b[0;34m\u001b[0m\u001b[0m\n\u001b[1;32m     54\u001b[0m dat = np.dot(np.array([np.log10(r13['TEFF']),corabsK,afunc.sal(r13['M_H'],metscorr),r13['LOGG']]).T,\n\u001b[0;32m---> 55\u001b[0;31m              factor.components_.T)\n\u001b[0m\u001b[1;32m     56\u001b[0m \u001b[0;34m\u001b[0m\u001b[0m\n\u001b[1;32m     57\u001b[0m \u001b[0mparage\u001b[0m \u001b[0;34m=\u001b[0m \u001b[0mfind_ages\u001b[0m\u001b[0;34m(\u001b[0m\u001b[0mdat\u001b[0m\u001b[0;34m[\u001b[0m\u001b[0;34m:\u001b[0m\u001b[0;34m,\u001b[0m\u001b[0;36m0\u001b[0m\u001b[0;34m]\u001b[0m\u001b[0;34m,\u001b[0m\u001b[0mdat\u001b[0m\u001b[0;34m[\u001b[0m\u001b[0;34m:\u001b[0m\u001b[0;34m,\u001b[0m\u001b[0;36m1\u001b[0m\u001b[0;34m]\u001b[0m\u001b[0;34m,\u001b[0m\u001b[0mdat\u001b[0m\u001b[0;34m[\u001b[0m\u001b[0;34m:\u001b[0m\u001b[0;34m,\u001b[0m\u001b[0;36m2\u001b[0m\u001b[0;34m]\u001b[0m\u001b[0;34m)\u001b[0m\u001b[0;34m\u001b[0m\u001b[0;34m\u001b[0m\u001b[0m\n",
      "\u001b[0;31mNameError\u001b[0m: name 'factor' is not defined"
     ]
    }
   ],
   "source": [
    "######################\n",
    "### Calculate Ages ###\n",
    "######################\n",
    "\n",
    "abd = {'C':8.39,'N':7.78,'O':8.66,'Mg':7.53,'Ca':6.31,'S':7.14,'Si':7.51,'Fe':7.45}\n",
    "keys = list(abd.keys())\n",
    "\n",
    "sol_2_H = []\n",
    "for i in keys:\n",
    "    sol_2_H.append(abd[i]-12.0)\n",
    "    \n",
    "sol_xm  = 10**np.asarray(sol_2_H)/sum(10**np.asarray(sol_2_H))\n",
    "x_C = []\n",
    "x_N = []\n",
    "x_O = []\n",
    "x_Mg = []\n",
    "x_Ca = []\n",
    "x_S = []\n",
    "x_Si = []\n",
    "x_Fe = []\n",
    "\n",
    "for i in range(len(r13)):\n",
    "    x_C.append(sol_xm[0]*10**(r13['C_FE'][i]+r13['FE_H'][i]-r13['M_H'][i]))\n",
    "    x_N.append(sol_xm[1]*10**(r13['N_FE'][i]+r13['FE_H'][i]-r13['M_H'][i]))\n",
    "    x_O.append(sol_xm[2]*10**(r13['O_FE'][i]+r13['FE_H'][i]-r13['M_H'][i]))\n",
    "    x_Mg.append(sol_xm[3]*10**(r13['Mg_FE'][i]+r13['FE_H'][i]-r13['M_H'][i]))\n",
    "    x_Ca.append(sol_xm[4]*10**(r13['Ca_FE'][i]+r13['FE_H'][i]-r13['M_H'][i]))\n",
    "    x_S.append(sol_xm[5]*10**(r13['S_FE'][i]+r13['FE_H'][i]-r13['M_H'][i]))\n",
    "    x_Si.append(sol_xm[6]*10**(r13['SI_FE'][i]+r13['FE_H'][i]-r13['M_H'][i]))\n",
    "    x_Fe.append(sol_xm[7]*10**(r13['FE_H'][i]-r13['M_H'][i]))\n",
    "    \n",
    "# facts = []\n",
    "# factsalp = []\n",
    "# factsCNO = []\n",
    "factsCN = []\n",
    "# factsCO = []\n",
    "for j in range(len(r13)):\n",
    "    numerCN = x_C[j]+x_N[j]\n",
    "    denomCN = sum(sol_xm[0:2])\n",
    "    \n",
    "#     numerCO = x_C[j]+x_O[j]\n",
    "#     denomCO = sol_xm[0]+sol_xm[2]\n",
    "factsCN.append(numerCN/denomCN)\n",
    "# factsCO.append(numerCO/denomCO)\n",
    "    \n",
    "factsCN = factsCN\n",
    "# factsCO = factsCO[0]\n",
    "\n",
    "metscorr = np.log10(0.638*(np.asarray(factsCN)+0.362))\n",
    "\n",
    "_, _, stardist = afunc.LMCdisk_cart(r13['RA'],r13['DEC'])\n",
    "corabsK = afunc.absmag(r13['K'],stardist)-r13['AK_TARG']\n",
    "\n",
    "dat = np.dot(np.array([np.log10(r13['TEFF']),corabsK,afunc.sal(r13['M_H'],metscorr),r13['LOGG']]).T,\n",
    "             factor.components_.T)\n",
    "\n",
    "parage = find_ages(dat[:,0],dat[:,1],dat[:,2])\n",
    "\n",
    "# dat = np.dot(np.array([np.log10(r13['TEFF']),r13['K'],r13['FE_H'],lg]),factor.components_.T)"
   ]
  },
  {
   "cell_type": "code",
   "execution_count": null,
   "metadata": {},
   "outputs": [],
   "source": []
  },
  {
   "cell_type": "code",
   "execution_count": 49,
   "metadata": {},
   "outputs": [
    {
     "data": {
      "text/plain": [
       "(array([1.000e+00, 0.000e+00, 0.000e+00, 1.000e+00, 9.000e+00, 5.000e+01,\n",
       "        1.720e+02, 6.830e+02, 1.658e+03, 1.400e+01]),\n",
       " array([ 2.1007638 ,  3.04798102,  3.99519824,  4.94241546,  5.88963268,\n",
       "         6.8368499 ,  7.78406712,  8.73128434,  9.67850156, 10.62571878,\n",
       "        11.572936  ]),\n",
       " <a list of 10 Patch objects>)"
      ]
     },
     "execution_count": 49,
     "metadata": {},
     "output_type": "execute_result"
    },
    {
     "data": {
      "image/png": "[encoded data removed]",
      "text/plain": [
       "<Figure size 432x288 with 1 Axes>"
      ]
     },
     "metadata": {
      "needs_background": "light"
     },
     "output_type": "display_data"
    }
   ],
   "source": [
    "plt.hist(parage)"
   ]
  },
  {
   "cell_type": "code",
   "execution_count": 105,
   "metadata": {},
   "outputs": [
    {
     "data": {
      "text/plain": [
       "5314899724.042008"
      ]
     },
     "execution_count": 105,
     "metadata": {},
     "output_type": "execute_result"
    }
   ],
   "source": [
    "10**(np.median(parage)+np.median(randdevs))-10**(np.median(parage))"
   ]
  },
  {
   "cell_type": "code",
   "execution_count": 161,
   "metadata": {},
   "outputs": [],
   "source": [
    "####################################\n",
    "### Get Uncertainties: Add Noise ###\n",
    "####################################\n",
    "\n",
    "def add_noise(quant,quant_err,distribution='normal'):\n",
    "    '''\n",
    "    Add noise to data and return new values\n",
    "    \n",
    "    Parameters:\n",
    "    ----------\n",
    "        quant: 1d array-like data to add noise to\n",
    "        quant_err: 1d array-like object of errors for quant\n",
    "        distribution: which distribution to use 'normal', 'poisson', 'uniform'\n",
    "    \n",
    "    return: \n",
    "    ------\n",
    "        1d array-like object of data with added noise\n",
    "    \n",
    "    '''\n",
    "    if distribution == 'normal':\n",
    "        return np.random.normal(quant,quant_err)\n",
    "    if distribution == 'poisson':\n",
    "        return quant + np.random.poisson(quant_err)\n",
    "    if distribution == 'uniform':\n",
    "        return np.random.uniform(-quant_err+quant,quant+quant_err)\n",
    "\n",
    "# def add_dist_noise(quant,quant_err,distribution='normal'):\n",
    "#     '''\n",
    "#     Add noise to data and return new values that are only positive\n",
    "    \n",
    "#     Parameters:\n",
    "#     ----------\n",
    "#         quant: 1d array-like data to add noise to\n",
    "#         quant_err: 1d array-like object of errors for quant\n",
    "#         distribution: which distribution to use 'normal', 'poisson', 'uniform'\n",
    "    \n",
    "#     return: \n",
    "#     ------\n",
    "#         1d array-like object of data with added noise\n",
    "    \n",
    "#     '''\n",
    "    \n",
    "#     if distribution == 'normal':\n",
    "#         return np.random.normal(quant,quant_err)\n",
    "#     if distribution == 'poisson':\n",
    "#         return quant + np.random.poisson(quant_err)\n",
    "#     if distribution == 'uniform':\n",
    "#         return np.random.uniform(-quant_err+quant,quant+quant_err)\n",
    "    \n",
    "    \n",
    "#     noise = np.absolute(np.random.uniform(0,quant_err))\n",
    "#     new = quant + noise\n",
    "#     return new\n",
    "\n",
    "def sal_noise(cfe,cfeERR,nfe,nfeERR,feh,fehERR,mh,mhERR):\n",
    "    '''\n",
    "    Calculate noisy values for Salaris calculation with C and N.\n",
    "    This does not take into account actually plugging in [M/H],\n",
    "    for that use add_noise.\n",
    "    \n",
    "    Parameters:\n",
    "        cfe: 1d array-like object of carbon abundances\n",
    "        cfeERR: 1d array-like object of carbon abundance errors\n",
    "        nfe: 1d array-like object of nitrogen abundances\n",
    "        nfeERR: 1d array-like object of nitrogen abundance errors\n",
    "        feh: 1d array-like object of iron abundances\n",
    "        fehERR: 1d array-like object of iron abundance errors\n",
    "        \n",
    "    Return:\n",
    "        noisy Salaris correction ffac\n",
    "    '''\n",
    "    \n",
    "    sol_C = 0.28115244582676185 #solar carbon abundance\n",
    "    sol_N = 0.06901474154376043 #solar nitrogen abundance\n",
    "    \n",
    "    # Calculate [C/M] and [N/M] with respective errors\n",
    "    cm = cfe + feh - mh\n",
    "    nm = nfe + feh - mh\n",
    "    CMERR = np.sqrt((cfeERR)**2+(fehERR)**2+(mhERR)**2)\n",
    "    NMERR = np.sqrt((nfeERR)**2+(fehERR)**2+(mhERR)**2)\n",
    "    \n",
    "    # Calculate X fractions for C and N with respective errors\n",
    "    x_C = sol_C*10**(cm)\n",
    "    x_N = sol_N*10**(nm)\n",
    "    \n",
    "    x_CERR = 10**(cm)*np.log(10)*CMERR\n",
    "    x_NERR = 10**(nm)*np.log(10)*NMERR\n",
    "    \n",
    "    # Calcuate f factor in Salaris correction with respective errors\n",
    "    ffac = (x_C+x_N)/(sol_C+sol_N) #factor from Salaris correction\n",
    "    ffacERR = np.sqrt((x_CERR)**2+(x_NERR)**2)/(sol_C+sol_N)\n",
    "    \n",
    "    # Add noise to calculated f factor\n",
    "    ffacnoise = np.random.uniform(-np.absolute(0.434*(ffacERR/ffac)),np.absolute(0.434*(ffacERR/ffac))) \n",
    "    \n",
    "    return ffac + ffacnoise"
   ]
  },
  {
   "cell_type": "code",
   "execution_count": 163,
   "metadata": {},
   "outputs": [
    {
     "data": {
      "application/vnd.jupyter.widget-view+json": {
       "model_id": "",
       "version_major": 2,
       "version_minor": 0
      },
      "text/plain": [
       "HBox(children=(IntProgress(value=0, description='Done?', max=2588, style=ProgressStyle(description_width='init…"
      ]
     },
     "metadata": {},
     "output_type": "display_data"
    },
    {
     "name": "stdout",
     "output_type": "stream",
     "text": [
      "\r"
     ]
    }
   ],
   "source": [
    "# #######################################\n",
    "# ### Get Uncertainties: Random Error ###\n",
    "# #######################################\n",
    "\n",
    "# randdevs = []\n",
    "\n",
    "# halo = -1.53\n",
    "# for i in tqdm_notebook(range(len(r13)),desc='Done?',leave=True):\n",
    "#     t = r13['TEFF'][i]\n",
    "#     t_err = r13['TEFF_ERR'][i]\n",
    "#     lgT = np.log10(r13['TEFF'][i])\n",
    "#     lgTERR = 0.434*(np.log10(r13['TEFF_ERR'][i])/np.log10(r13['TEFF'][i]))\n",
    "#     ks = corabsK[i]\n",
    "#     ksERR = r13['K_ERR'][i]\n",
    "#     mh = r13['M_H'][i]\n",
    "#     mhERR = r13['M_H_ERR'][i]\n",
    "#     cfe = r13['C_FE'][i]\n",
    "#     cfeERR = r13['C_FE_ERR'][i]\n",
    "#     nfe = r13['N_FE'][i]\n",
    "#     nfeERR = r13['N_FE_ERR'][i]\n",
    "#     feh = r13['FE_H'][i]\n",
    "#     fehERR = r13['FE_H_ERR'][i]\n",
    "#     lgg = r13['LOGG'][i]\n",
    "#     lggERR = r13['LOGG_ERR'][i]\n",
    "    \n",
    "#     ages = []\n",
    "#     for j in range(1000):\n",
    "        \n",
    "#         nT = add_noise(t,t_err)\n",
    "#         nlgT = np.log10(nT)\n",
    "        \n",
    "#         nks = add_noise(ks,ksERR)\n",
    "#         if r13['FE_H'][i] < -1.0:\n",
    "#             nabsK = afunc.absmag(nks,stardist[i])-r13['AK_TARG'][i]\n",
    "#         else:\n",
    "#             ndist = add_noise(stardist[i],1.0,distribution='uniform')\n",
    "#             nabsK = afunc.absmag(nks,ndist)-r13['AK_TARG'][i]\n",
    "            \n",
    "#         nmh = add_noise(mh,mhERR)\n",
    "#         nfac = sal_noise(cfe,cfeERR,nfe,nfeERR,feh,fehERR,mh,mhERR)\n",
    "        \n",
    "#         nlgg = add_noise(lgg,lggERR)\n",
    "        \n",
    "#         new = np.dot(np.array([nlgT,nabsK,afunc.sal(nmh,nfac),nlgg]).T,\n",
    "#              factor.components_.T)\n",
    "        \n",
    "#         ages.append(find_ages(new[0],new[1],new[2]))\n",
    "    \n",
    "#     randdevs.append(afunc.mad(ages))"
   ]
  },
  {
   "cell_type": "code",
   "execution_count": 172,
   "metadata": {},
   "outputs": [
    {
     "data": {
      "application/vnd.jupyter.widget-view+json": {
       "model_id": "b3b115ccc1c242aea52f75c1c1072855",
       "version_major": 2,
       "version_minor": 0
      },
      "text/plain": [
       "HBox(children=(IntProgress(value=0, description='Done?', max=2588, style=ProgressStyle(description_width='init…"
      ]
     },
     "metadata": {},
     "output_type": "display_data"
    },
    {
     "name": "stdout",
     "output_type": "stream",
     "text": [
      "\n"
     ]
    }
   ],
   "source": [
    "################################\n",
    "### Calculate  Uncertainties ###\n",
    "################################\n",
    "\n",
    "devs = []\n",
    "halo_cutoff = -1.53\n",
    "\n",
    "for i in tqdm_notebook(range(len(r13)),desc='Done?'):\n",
    "    # temperature\n",
    "    teff = r13['TEFF'][i]\n",
    "    teff_err = r13['TEFF_ERR'][i]\n",
    "    \n",
    "    # photometry \n",
    "    ra = r13['RA'][i]\n",
    "    dec = r13['DEC'][i]\n",
    "    ks = r13['K'][i]\n",
    "    ks_err = r13['K_ERR'][i]\n",
    "    ak = r13['AK_TARG'][i]\n",
    "    \n",
    "    # abundances\n",
    "    mh = r13['M_H'][i]\n",
    "    mh_err = r13['M_H_ERR'][i]\n",
    "    cfe = r13['C_FE'][i]\n",
    "    cfe_err = r13['C_FE_ERR'][i]\n",
    "    nfe = r13['N_FE'][i]\n",
    "    nfe_err = r13['N_FE_ERR'][i]\n",
    "    feh = r13['FE_H'][i]\n",
    "    feh_err = r13['FE_H_ERR'][i]\n",
    "    \n",
    "    # surface gravity\n",
    "    lgg = r13['LOGG'][i]\n",
    "    lgg_err = r13['LOGG_ERR'][i]\n",
    "    \n",
    "    noise_ages = []\n",
    "    for j in range(1000):\n",
    "       \n",
    "        # calculate noisy temperature\n",
    "        teff_new = add_noise(teff,teff_err) \n",
    "        lgteff_new = np.log10(teff_new)\n",
    "    \n",
    "        # Calculate noisy K magnitude\n",
    "        _, _, dist = afunc.LMCdisk_cart(ra,dec)\n",
    "        \n",
    "        ks_new = add_noise(ks,ks_err)\n",
    "        \n",
    "        if feh <= halo_cutoff:\n",
    "            dist_new = add_noise(dist,1.0,distribution='uniform')\n",
    "            absK_new = afunc.absmag(ks_new,dist_new) - ak\n",
    "        \n",
    "        else:\n",
    "            absK_new = afunc.absmag(ks_new,dist) - ak\n",
    "            \n",
    "        # Calculate noisy Salaris correction\n",
    "        \n",
    "        x_C_new = sol_xm[0]*10**(add_noise(cfe,cfe_err)+add_noise(feh,feh_err)-add_noise(mh,mh_err))\n",
    "        x_N_new = sol_xm[1]*10**(add_noise(nfe,nfe_err)+add_noise(feh,feh_err)-add_noise(mh,mh_err))\n",
    "        \n",
    "        ffac_new = (x_C_new+x_N_new)/sum(sol_xm[0:2])\n",
    "        \n",
    "        mh_new = add_noise(mh,mh_err)\n",
    "        \n",
    "        # Calculate noisy surface gravity\n",
    "        lgg_new = add_noise(lgg,lgg_err)\n",
    "            \n",
    "        # calculate noisy age\n",
    "        new = np.dot(np.array([lgteff_new,absK_new,afunc.sal(mh_new,ffac_new),lgg_new]).T,factor.components_.T)\n",
    "        \n",
    "        noise_ages.append(find_ages(new[0],new[1],new[2]))\n",
    "    \n",
    "    devs.append(afunc.mad(noise_ages))"
   ]
  },
  {
   "cell_type": "code",
   "execution_count": 173,
   "metadata": {},
   "outputs": [
    {
     "data": {
      "image/png": "[encoded data removed]",
      "text/plain": [
       "<Figure size 864x720 with 2 Axes>"
      ]
     },
     "metadata": {
      "needs_background": "light"
     },
     "output_type": "display_data"
    }
   ],
   "source": [
    "plt.figure(figsize=[12,10])\n",
    "plt.scatter(10**np.asarray(parage),devs,marker='+',c=r13['FE_H'],cmap='jet_r')\n",
    "plt.colorbar()\n",
    "plt.axvline(10**(np.log10(ageU)+np.mean(devs)),c='k')\n",
    "plt.xscale('log')\n",
    "plt.xlim(left=10**5)\n",
    "# plt.title(r'Random Uncertainties, Color as [Fe/H]')\n",
    "plt.xlabel(r'Age [yr]')\n",
    "plt.ylabel(r'Log(Age) Uncertainty')\n",
    "plt.title(r'Color as [Fe/H]')\n",
    "plt.savefig('PCAOLS_uncert.pdf',bbox_inches='tight')\n",
    "plt.show()"
   ]
  },
  {
   "cell_type": "code",
   "execution_count": 180,
   "metadata": {},
   "outputs": [
    {
     "name": "stdout",
     "output_type": "stream",
     "text": [
      "0.7487825155258179\n",
      "0.3371585345170258\n"
     ]
    },
    {
     "data": {
      "image/png": "[encoded data removed]",
      "text/plain": [
       "<Figure size 432x288 with 1 Axes>"
      ]
     },
     "metadata": {
      "needs_background": "light"
     },
     "output_type": "display_data"
    }
   ],
   "source": []
  },
  {
   "cell_type": "code",
   "execution_count": 176,
   "metadata": {},
   "outputs": [
    {
     "data": {
      "text/plain": [
       "0.02820710973724884"
      ]
     },
     "execution_count": 176,
     "metadata": {},
     "output_type": "execute_result"
    }
   ],
   "source": [
    "len(np.squeeze(np.where(parage>=10.13+np.max(devs))))/len(parage)"
   ]
  },
  {
   "cell_type": "code",
   "execution_count": 174,
   "metadata": {},
   "outputs": [
    {
     "data": {
      "image/png": "[encoded data removed]",
      "text/plain": [
       "<Figure size 864x720 with 2 Axes>"
      ]
     },
     "metadata": {
      "needs_background": "light"
     },
     "output_type": "display_data"
    }
   ],
   "source": [
    "########################\n",
    "### compare to Diane ###\n",
    "########################\n",
    "\n",
    "plt.figure(figsize=[12,10])\n",
    "plt.scatter(10**parage[r13_ind],10**pdfout['P_MEAN'][pdfout_ind],c=r13['LOGG'][r13_ind],\n",
    "            marker='+',cmap='nipy_spectral')\n",
    "plt.colorbar()\n",
    "plt.plot(10**np.array([7,8,9,10,11,12,13]),10**np.array([7,8,9,10,11,12,13]),c='k')\n",
    "plt.ylim(10**7,10**13)\n",
    "plt.xlim(left=10**5)\n",
    "\n",
    "# plt.scatter(10**12,10**7.5,c='k',marker='+')\n",
    "plt.errorbar(10**12,10**7.5,xerr=np.sqrt((10**12)**2*(np.median(devs))**2),c='k',capsize=2,marker='+')\n",
    "\n",
    "plt.axvline(10**10.13,c='r')\n",
    "plt.axhline(10**10.13,c='r')\n",
    "plt.axvline(10**(np.log10(ageU)+np.median(devs)),c='r',linestyle='--')\n",
    "\n",
    "plt.xscale('log')\n",
    "plt.yscale('log')\n",
    "\n",
    "plt.xlabel(r'PCA + OLS Polynomial [yr]',fontsize=20)\n",
    "plt.ylabel(r'Bayesian Ages (Diane Feuillet) [yr]',fontsize=20)\n",
    "plt.title(r'Age to Age with Color as Log(g)',fontsize=20)\n",
    "plt.savefig('age2age_PCA_OLS.pdf',bbox_inches='tight')\n",
    "plt.show()"
   ]
  },
  {
   "cell_type": "code",
   "execution_count": 142,
   "metadata": {},
   "outputs": [
    {
     "data": {
      "text/plain": [
       "'/Users/joshpovick/Desktop/Research/LMC_Ages'"
      ]
     },
     "execution_count": 142,
     "metadata": {},
     "output_type": "execute_result"
    }
   ],
   "source": [
    "pwd"
   ]
  },
  {
   "cell_type": "code",
   "execution_count": 24,
   "metadata": {
    "collapsed": true
   },
   "outputs": [
    {
     "name": "stdout",
     "output_type": "stream",
     "text": [
      "[4, 4, 4, 4, 4, 4, 4, 4, 4, 4, 4, 4, 4, 4, 4, 4, 4, 4, 4, 4, 4, 4, 4, 4, 4, 4, 4, 4, 4, 4, 4, 4, 4, 4, 4, 4, 4, 4, 4, 4, 4, 4, 4, 4, 4, 4, 4, 4, 4, 4, 4, 4, 4, 4, 4, 4, 4, 4, 4, 4, 4, 4, 4, 4, 4, 4, 4, 4, 4, 4, 4, 4, 4, 4, 4, 4, 4, 4, 4, 4, 4, 4, 4, 4, 4, 4, 4, 4, 4, 4, 4, 4, 4, 4, 4, 4, 4, 4, 4, 4, 4, 4, 4, 4, 4, 4, 4, 4, 4, 4, 4, 4, 4, 4, 4, 4, 4, 4, 4, 4, 4, 4, 4, 4, 4, 4, 4, 4, 4, 4, 4, 4, 4, 4, 4, 4, 4, 4, 4, 4, 4, 4, 4, 4, 4, 4, 4, 4, 4, 4, 4, 4, 4, 4, 4, 4, 4, 4, 4, 4, 4, 4, 4, 4, 4, 4, 4, 4, 4, 4, 4, 4, 4, 4, 4, 4, 4, 4, 4, 4, 4, 4, 4, 4, 4, 4, 4, 4, 4, 4, 4, 4, 4, 4, 4, 4, 4, 4, 4, 4, 4, 4, 4, 4, 4, 4, 4, 4, 4, 4, 4, 4, 4, 4, 4, 4, 4, 4, 4, 4, 4, 4, 4, 4, 4, 4, 4, 4, 4, 4, 4, 4, 4, 4, 4, 4, 4, 5, 5, 5, 5, 5, 5, 5, 5, 5, 5, 5, 5, 5, 5, 5, 5, 5, 5, 5, 5, 5, 5, 5, 5, 5, 5, 5, 5, 5, 5, 5, 5, 5, 5, 5, 5, 5, 5, 5, 5, 5, 5, 5, 5, 5, 5, 5, 5, 5, 5, 5, 5, 5, 5, 5, 5, 5, 5, 5, 5, 5, 5, 5, 5, 5, 5, 5, 5, 5, 5, 5, 5, 5, 5, 5, 5, 5, 5, 5, 5, 5, 5, 5, 5, 5, 5, 5, 5, 5, 5, 5, 5, 5, 5, 5, 5, 5, 5, 5, 5, 5, 5, 5, 5, 5, 5, 5, 5, 5, 5, 5, 5, 5, 5, 5, 5, 5, 5, 5, 5, 5, 5, 5, 5, 5, 5, 5, 5, 5, 5, 5, 5, 5, 5, 5, 5, 5, 5, 5, 5, 5, 5, 5, 5, 5, 5, 5, 5, 5, 5, 5, 5, 5, 5, 5, 5, 5, 5, 5, 5, 5, 5, 5, 5, 5, 5, 5, 5, 5, 5, 5, 5, 5, 5, 5, 5, 5, 5, 5, 5, 5, 5, 5, 5, 5, 5, 5, 5, 5, 5, 5, 5, 5, 5, 5, 5, 5, 5, 5, 5, 5, 5, 5, 5, 5, 5, 5, 5, 5, 5, 5, 5, 5, 5, 5, 5, 5, 5, 5, 5, 5, 5, 5, 5, 5, 5, 5, 5, 5, 5, 5, 5, 5, 5, 5, 5, 5, 5, 5, 5, 5, 5, 5, 5, 5, 5, 5, 5, 5, 5, 5, 5, 5, 5, 5, 5, 5, 5, 5, 5, 5, 5, 5, 5, 5, 5, 5, 5, 5, 5, 5, 5, 5, 5, 5, 5, 5, 5, 5, 5, 5, 5, 5, 5, 5, 5, 5, 5, 5, 5, 5, 5, 5, 5, 5, 5, 5, 5, 5, 5, 5, 5, 5, 5, 5, 5, 5, 5, 5, 5, 5, 5, 5, 5, 5, 5, 5, 5, 5, 5, 5, 5, 5, 5, 5, 5, 5, 5, 5, 5, 5, 5, 5, 5, 5, 5, 5, 5, 5, 5, 5, 5, 5, 5, 5, 5, 5, 5, 5, 5, 5, 5, 5, 5, 5, 5, 5, 5, 5, 5, 5, 5, 5, 5, 5, 5, 5, 5, 5, 5, 5, 5, 5, 5, 5, 5, 5, 5, 5, 5, 5, 5, 5, 5, 5, 5, 5, 5, 5, 5, 5, 5, 5, 5, 5, 5, 5, 5, 5, 5, 5, 5, 5, 5, 5, 5, 5, 5, 5, 5, 5, 5, 5, 5, 5, 5, 5, 5, 5, 5, 5, 5, 5, 5, 5, 5, 5, 5, 5, 5, 5, 5, 5, 5, 5, 5, 5, 5, 5, 5, 5, 5, 5, 5, 5, 5, 5, 5, 5, 5, 5, 5, 5, 5, 5, 5, 5, 5, 5, 5, 5, 5, 5, 5, 5, 5, 5, 5, 5, 5, 5, 5, 5, 5, 5, 5, 5, 5, 5, 5, 5, 5, 5, 5, 5, 5, 5, 5, 5, 5, 5, 5, 5, 5, 5, 5, 5, 5, 5, 5, 5, 5, 5, 5, 5, 5, 5, 5, 5, 5, 5, 5, 5, 5, 5, 5, 5, 5, 5, 5, 6, 6, 6, 6, 6, 6, 6, 6, 6, 6, 6, 6, 6, 6, 6, 6, 6, 6, 6, 6, 6, 6, 6, 6, 6, 6, 6, 6, 6, 6, 6, 6, 6, 6, 6, 6, 6, 6, 6, 6, 6, 6, 6, 6, 6, 6, 6, 6, 6, 6, 6, 6, 6, 6, 6, 6, 6, 6, 6, 6, 6, 6, 6, 6, 6, 6, 6, 6, 6, 6, 6, 6, 6, 6, 6, 6, 6, 6, 6, 6, 6, 6, 6, 6, 6, 6, 6, 6, 6, 6, 6, 6, 6, 6, 6, 6, 6, 6, 6, 6, 6, 6, 6, 6, 6, 6, 6, 6, 6, 6, 6, 6, 6, 6, 6, 6, 6, 6, 6, 6, 6, 6, 6, 6, 6, 6, 6, 6, 6, 6, 6, 6, 6, 6, 6, 6, 6, 6, 6, 6, 6, 6, 6, 6, 6, 6, 6, 6, 6, 6, 6, 6, 6, 6, 6, 6, 6, 6, 6, 6, 6, 6, 6, 6, 6, 6, 6, 6, 6, 6, 6, 6, 6, 6, 6, 6, 6, 6, 6, 6, 6, 6, 6, 6, 6, 6, 6, 6, 6, 6, 6, 6, 6, 6, 6, 6, 6, 6, 6, 6, 6, 6, 6, 6, 6, 6, 6, 6, 6, 6, 6, 6, 6, 6, 6, 6, 6, 6, 6, 6, 6, 6, 6, 6, 6, 6, 6, 6, 6, 6, 6, 6, 6, 6, 6, 6, 6, 6, 6, 6, 6, 6, 6, 6, 6, 6, 6, 6, 6, 6, 6, 6, 6, 6, 6, 6, 6, 6, 6, 6, 6, 6, 6, 6, 6, 6, 6, 6, 6, 6, 6, 6, 6, 6, 6, 6, 6, 6, 6, 6, 6, 6, 6, 6, 6, 6, 6, 6, 6, 6, 6, 6, 6, 6, 6, 6, 6, 6, 6, 6, 6, 6, 6, 6, 6, 6, 6, 6, 6, 6, 6, 6, 6, 6, 6, 6, 6, 6, 6, 6, 6, 6, 6, 6, 6, 6, 6, 6, 6, 6, 6, 6, 6, 6, 6, 6, 6, 6, 6, 6, 6, 6, 6, 6, 6, 6, 6, 6, 6, 6, 6, 6, 6, 6, 6, 6, 6, 6, 6, 6, 6, 6, 6, 6, 6, 6, 6, 6, 6, 6, 6, 6, 6, 6, 6, 6, 6, 6, 6, 6, 6, 6, 6, 6, 6, 6, 6, 6, 6, 6, 6, 6, 6, 6, 6, 6, 6, 6, 6, 6, 6, 6, 6, 6, 6, 6, 6, 6, 6, 6, 6, 6, 6, 6, 6, 6, 6, 6, 6, 6, 6, 6, 6, 6, 6, 6, 6, 6, 6, 6, 6, 6, 6, 6, 6, 6, 6, 6, 6, 6, 6, 6, 6, 6, 6, 6, 6, 6, 6, 6, 6, 6, 6, 6, 6, 6, 6, 6, 6, 6, 6, 6, 6, 6, 6, 6, 6, 6, 6, 6, 6, 6, 6, 6, 6, 6, 6, 6, 6, 6, 6, 6, 6, 6, 6, 6, 6, 6, 6, 6, 6, 6, 6, 6, 6, 6, 6, 6, 6, 6, 6, 6, 6, 6, 6, 6, 6, 6, 6, 6, 6, 6, 6, 6, 6, 6, 6, 6, 6, 6, 6, 6, 6, 6, 6, 6, 6, 6, 6, 6, 6, 6, 6, 6, 6, 6, 6, 6, 6, 6, 6, 6, 6, 6, 6, 6, 6, 6, 6, 6, 6, 6, 6, 6, 6, 6, 6, 6, 6, 6, 6, 6, 6, 6, 6, 6, 6, 6, 6, 6, 6, 6, 6, 6, 6, 6, 6, 6, 6, 6, 6, 6, 6, 6, 6, 6, 6, 6, 6, 6, 6, 6, 6, 6, 6, 6, 6, 6, 6, 6, 6, 6, 6, 6, 6, 6, 6, 6, 6, 6, 6, 6, 6, 6, 6, 6, 6, 6, 6, 6, 6, 6, 6, 6, 6, 6, 6, 6, 6, 6, 6, 6, 6, 6, 6, 6, 6, 6, 6, 6, 6, 6, 6, 6, 6, 6, 6, 6, 6, 6, 6, 6, 6, 6, 6, 6, 6, 6, 6, 6, 6, 6, 6, 6, 6, 6, 6, 6, 6, 6, 6, 6, 6, 6, 6, 6, 6, 6, 6, 6, 6, 6, 6, 6, 6, 6, 6, 6, 6, 6, 6, 6, 6, 6, 6, 6, 6, 6, 6, 6, 6, 6, 6, 6, 6, 6, 6, 6, 6, 6, 6, 6, 6, 6, 6, 6, 6, 6, 6, 6, 6, 6, 6, 6, 6, 6, 6, 6, 6, 6, 6, 6, 6, 6, 6, 6, 6, 6, 6, 6, 6, 6, 6, 6, 6, 6, 6, 6, 6, 6, 6, 6, 6, 7, 7, 7, 7, 7, 7, 7, 7, 7, 7, 7, 7, 7, 7, 7, 7, 7, 7, 7, 7, 7, 7, 7, 7, 7, 7, 7, 7, 7, 7, 7, 7, 7, 7, 7, 7, 7, 7, 7, 7, 7, 7, 7, 7, 7, 7, 7, 7, 7, 7, 7, 7, 7, 7, 7, 7, 7, 7, 7, 7, 7, 7, 7, 7, 7, 7, 7, 7, 7, 7, 7, 7, 7, 7, 7, 7, 7, 7, 7, 7, 7, 7, 7, 7, 7, 7, 7, 7, 7, 7, 7, 7, 7, 7, 7, 7, 7, 7, 7, 7, 7, 7, 7, 7, 7, 7, 7, 7, 7, 7, 7, 7, 7, 7, 7, 7, 7, 7, 7, 7, 7, 7, 7, 7, 7, 7, 7, 7, 7, 7, 7, 7, 7, 7, 7, 7, 7, 7, 7, 7, 7, 7, 7, 7, 7, 7, 7, 7, 7, 7, 7, 7, 7, 7, 7, 7, 7, 7, 7, 7, 7, 7, 7, 7, 7, 7, 7, 7, 7, 7, 7, 7, 7, 7, 7, 7, 7, 7, 7, 7, 7, 7, 7, 7, 7, 7, 7, 7, 7, 7, 7, 7, 7, 7, 7, 7, 7, 7, 7, 7, 7, 7, 7, 7, 7, 7, 7, 7, 7, 7, 7, 7, 7, 7, 7, 7, 7, 7, 7, 7, 7, 7, 7, 7, 7, 7, 7, 7, 7, 7, 7, 7, 7, 7, 7, 7, 7, 7, 7, 7, 7, 7, 7, 7, 7, 7, 7, 7, 7, 7, 7, 7, 7, 7, 7, 7, 7, 7, 7, 7, 7, 7, 7, 7, 7, 7, 7, 7, 7, 7, 7, 7, 7, 7, 7, 7, 7, 7, 7, 7, 7, 7, 7, 7, 7, 7, 7, 7, 7, 7, 7, 7, 7, 7, 7, 7, 7, 7, 7, 7, 7, 7, 7, 7, 7, 7, 7, 7, 7, 7, 7, 7, 7, 7, 7, 7, 7, 7, 7, 7, 7, 7, 7, 7, 7, 7, 7, 7, 7, 7, 7, 7, 7, 7, 7, 7, 7, 7, 7, 7, 7, 7, 7, 7, 7, 7, 7, 7, 7, 7, 7, 7, 7, 7, 7, 7, 7, 7, 7, 7, 7, 7, 7, 7, 7, 7, 7, 7, 7, 7, 7, 7, 7, 7, 7, 7, 7, 7, 7, 7, 7, 7, 7, 7, 7, 7, 7, 7, 7, 7, 7, 7, 7, 7, 7, 7, 7, 7, 7, 7, 7, 7, 7, 7, 7, 7, 7, 7, 7, 7, 7, 7, 7, 7, 7, 7, 7, 7, 7, 7, 7, 7, 7, 7, 7, 7, 7, 7, 7, 7, 7, 7, 7, 7, 7, 7, 7, 7, 7, 7, 7, 7, 7, 7, 7, 7, 7, 7, 7, 7, 7, 7, 7, 7, 7, 7, 7, 7, 7, 7, 7, 7, 7, 7, 7, 7, 7, 7, 7, 7, 7, 7, 7, 7, 7, 7, 7, 7, 7, 7, 7, 7, 7, 7, 7, 7, 7, 7, 7, 7, 7, 7, 7, 7, 7, 7, 7, 7, 7, 7, 7, 7, 7, 7, 7, 7, 7, 7, 7, 7, 7, 7, 7, 7, 7, 7, 7, 7, 7, 7, 7, 7, 7, 7, 7, 7, 7, 7, 7, 7, 7, 7, 7, 7, 7, 7, 7, 7, 7, 7, 7, 7, 7, 7, 7, 7, 7, 7, 7, 7, 7, 7, 7, 7, 7, 7, 7, 7, 7, 7, 7, 7, 7, 7, 7, 7, 7, 7, 7, 7, 7, 7, 7, 7, 7, 7, 7, 7, 7, 7, 7, 7, 7, 7, 7, 7, 7, 7, 7, 7, 7, 7, 7, 7, 7, 7, 7, 7, 7, 7, 7, 7, 7, 7, 7, 7, 7, 7, 7, 7, 7, 7, 7, 7, 7, 7, 7, 7, 7, 7, 7, 7, 7, 7, 7, 7, 7, 7, 7, 7, 7, 7, 7, 7, 7, 7, 7, 7, 7, 7, 7, 7, 7, 7, 7, 7, 7, 7, 7, 7, 7, 7, 7, 7, 7, 7, 7, 7, 7, 7, 7, 7, 7, 7, 7, 7, 7, 7, 7, 7, 7, 7, 7, 7, 7, 7, 7, 7, 7, 7, 7, 7, 7, 7, 7, 7, 7, 7, 7, 7, 7, 7, 7, 7, 7, 7, 7, 7, 7, 7, 7, 7, 7, 7, 7, 7, 7, 7, 7, 7, 7, 7, 7, 7, 7, 7, 7, 7, 7, 7, 7, 7, 7, 7, 7, 7, 7, 7, 7, 7, 7, 7, 7, 7, 7, 7, 7, 7, 8, 8, 8, 8, 8, 8, 8, 8, 8, 8, 8, 8, 8, 8, 8, 8, 8, 8, 8, 8, 8, 8, 8, 8, 8, 8, 8, 8, 8, 8, 8, 8, 8, 8, 8, 8, 8, 8, 8, 8, 8, 8, 8, 8, 8, 8, 8, 8, 8, 8, 8, 8, 8, 8, 8, 8, 8, 8, 8, 8, 8, 8, 8, 8, 8, 8, 8, 8, 8, 8, 8, 8, 8, 8, 8, 8, 8, 8, 8, 8, 8, 8, 8, 8, 8, 8, 8, 8, 8, 8, 8, 8, 8, 8, 8, 8, 8, 8, 8, 8, 8, 8, 8, 8, 8, 8, 8, 8, 8, 8, 8, 8, 8, 8, 8, 8, 8, 8, 8, 8, 8, 8, 8, 8, 8, 8, 8, 8, 8, 8, 8, 8, 8, 8, 8, 8, 8, 8, 8, 8, 8, 8, 8, 8, 8, 8, 8, 8, 8, 8, 8, 8, 8, 8, 8, 8, 8, 8, 8, 8, 8, 8, 8, 8, 8, 8, 8, 8, 8, 8, 8, 8, 8, 8, 8, 8, 8, 8, 8, 8, 8, 8, 8, 8, 8, 8, 8, 8, 8, 8, 8, 8, 8, 8, 8, 8, 8, 8, 8, 8, 8, 8, 8, 8, 8, 8, 8, 8, 8, 8, 8, 8, 8, 8, 8, 8, 8, 8, 8, 8, 8, 8, 8, 8, 8, 8, 8, 8, 8, 8, 8, 8, 8, 8, 8, 8, 8, 8, 8, 8, 8, 8, 8, 8, 8, 8, 8, 8, 8, 8, 8, 8, 8, 8, 8, 8, 8, 8, 8, 8, 8, 8, 8, 8, 8, 8, 8, 8, 8, 8, 8, 8, 8, 8, 8, 8, 8, 8, 8, 8, 8, 8, 8, 8, 8, 8, 8, 8, 8, 8, 8, 8, 8, 8, 8, 8, 8, 8, 8, 8, 8, 8, 8, 8, 8, 8, 8, 8, 8, 8, 8, 8, 8, 8, 8, 8, 8, 8, 8, 8, 8, 8, 8, 8, 8, 8, 8, 8, 8, 8, 8, 8, 8, 8, 8, 8, 8, 8, 8, 8, 8, 8, 8, 8, 8, 8, 8, 8, 8, 8, 8, 8, 8, 8, 8, 8, 8, 8, 8, 8, 8, 8, 8, 8, 8, 8, 8, 8, 8, 8, 8, 8, 8, 8, 8, 8, 8, 8, 8, 8, 8, 8, 8, 8, 8, 8, 8, 8, 8, 8, 8, 8, 8, 8, 8, 8, 8, 8, 8, 8, 8, 8, 8, 8, 8, 8, 8, 8, 8, 8, 8, 8, 8, 8, 8, 8, 8, 8, 8, 8, 8, 8, 8, 8, 8, 8, 8, 8, 8, 8, 8, 8, 8, 8, 8, 8, 8, 8, 8, 8, 8, 8, 8, 8, 8, 8, 8, 8, 8, 8, 8, 8, 8, 8, 8, 8, 8, 8, 8, 8, 8, 8, 8, 8, 8, 8, 8, 8, 8, 8, 8, 8, 8, 8, 8, 8, 8, 8, 8, 8, 8, 8, 8, 8, 9, 9, 9, 9, 9, 9, 9, 9, 9, 9, 9, 9, 9, 9, 9, 9, 9, 9, 9, 9, 9, 9, 9, 9, 9, 9, 9, 9, 9, 9, 9, 9, 9, 9, 9, 9, 9, 9, 9, 9, 9, 9, 9, 9, 9, 9, 9, 9, 9, 9, 9, 9, 9, 9, 9, 9, 9, 9, 9, 9, 9, 9, 9, 9, 9, 9, 9, 9, 9, 9, 9, 9, 9, 9, 9, 9, 9, 9, 9, 9, 9, 9, 9, 9, 9, 9, 9, 9, 9, 9, 9, 9, 9, 9, 9, 9, 9, 9, 9, 9, 9, 9, 9, 9, 9, 9, 9, 9, 9, 9, 9, 9, 9, 9, 9, 9, 9, 9, 9, 9, 9, 9, 9, 9, 9, 9, 9, 9, 9, 9, 9, 9, 9, 9, 9, 9, 9, 9, 9, 9, 9, 9, 9, 9, 9, 9, 9, 9, 9, 9, 9, 9, 9, 9, 9, 9, 9, 9, 9, 9, 9, 9, 9, 9, 9, 9, 9, 9, 9, 9, 9, 9, 9, 9, 9, 9, 9, 9, 9, 9, 9, 9, 9, 9, 9, 9, 9, 9, 9, 9, 9, 9, 9, 9, 9, 9, 9, 9, 9, 9, 9, 9, 9, 9, 9, 9, 9, 9, 9, 9, 9, 9, 9, 9, 9, 9, 9, 9, 9, 10, 10, 10, 10, 10, 10, 10, 10, 10, 10, 10, 10, 10, 10, 10, 10, 10, 10, 10, 10, 10, 10, 10, 10, 10, 10, 10, 10, 10, 10, 10, 10, 10, 10, 10, 10, 10, 10, 10, 10, 10, 10, 10, 10, 10, 10, 10, 10, 10, 10, 10, 10, 10, 10, 10, 10, 10, 10, 10, 10, 10, 10, 10, 10, 10, 10, 11, 11, 11, 11, 11, 11, 11, 11, 11, 11, 11, 11, 12]\n",
      "index:  0\n",
      "['y1' 'y2' 'y3' 'y12']\n",
      "index:  1\n",
      "['y1' 'y2' 'y3' 'y13']\n",
      "index:  2\n",
      "['y1' 'y2' 'y3' 'y23']\n",
      "index:  3\n",
      "['y1' 'y2' 'y3' 'y1sq']\n",
      "index:  4\n",
      "['y1' 'y2' 'y3' 'y2sq']\n",
      "index:  5\n",
      "['y1' 'y2' 'y3' 'y3sq']\n",
      "index:  6\n",
      "['y1' 'y2' 'y3' 'y1cu']\n"
     ]
    }
   ],
   "source": [
    "#########################\n",
    "### Find lowest order ###\n",
    "#########################\n",
    "\n",
    "small = np.where(np.asarray(mads)<=0.05)\n",
    "\n",
    "terms = []\n",
    "for i in range(len(models_str[small])):\n",
    "    terms.append(len(models_str[small][i]))\n",
    "    \n",
    "print(terms)\n",
    "for j in range(7):\n",
    "    print('index: ',np.arange(len(models_str))[small][j])\n",
    "    print(models_str[small][j])"
   ]
  },
  {
   "cell_type": "code",
   "execution_count": 28,
   "metadata": {},
   "outputs": [
    {
     "data": {
      "text/plain": [
       "array(['y1', 'y2', 'y3', 'y12', 'y13', 'y23', 'y1sq', 'y2sq', 'y3sq',\n",
       "       'y2cu'], dtype='<U4')"
      ]
     },
     "execution_count": 28,
     "metadata": {},
     "output_type": "execute_result"
    }
   ],
   "source": [
    "models_str[np.asarray(mads).argmin()]"
   ]
  },
  {
   "cell_type": "code",
   "execution_count": 30,
   "metadata": {},
   "outputs": [
    {
     "name": "stdout",
     "output_type": "stream",
     "text": [
      "                            OLS Regression Results                            \n",
      "==============================================================================\n",
      "Dep. Variable:                      y   R-squared:                       0.999\n",
      "Model:                            OLS   Adj. R-squared:                  0.999\n",
      "Method:                 Least Squares   F-statistic:                 2.099e+06\n",
      "Date:                Mon, 06 Apr 2020   Prob (F-statistic):               0.00\n",
      "Time:                        19:28:43   Log-Likelihood:                 44648.\n",
      "No. Observations:               16121   AIC:                        -8.927e+04\n",
      "Df Residuals:                   16110   BIC:                        -8.919e+04\n",
      "Df Model:                          10                                         \n",
      "Covariance Type:            nonrobust                                         \n",
      "==============================================================================\n",
      "                 coef    std err          t      P>|t|      [0.025      0.975]\n",
      "------------------------------------------------------------------------------\n",
      "const         28.6268      0.038    752.100      0.000      28.552      28.701\n",
      "x1             0.2716      0.001    207.486      0.000       0.269       0.274\n",
      "x2             0.0531      0.003     17.482      0.000       0.047       0.059\n",
      "x3            -8.6655      0.023   -375.803      0.000      -8.711      -8.620\n",
      "x4            -0.0143    7.6e-05   -188.106      0.000      -0.014      -0.014\n",
      "x5            -0.0647      0.000   -158.002      0.000      -0.066      -0.064\n",
      "x6            -0.0599      0.001    -78.033      0.000      -0.061      -0.058\n",
      "x7            -0.0058    3.1e-05   -188.859      0.000      -0.006      -0.006\n",
      "x8             0.0995      0.001     74.851      0.000       0.097       0.102\n",
      "x9             0.8662      0.004    246.724      0.000       0.859       0.873\n",
      "x10           -0.0201      0.000    -65.532      0.000      -0.021      -0.020\n",
      "==============================================================================\n",
      "Omnibus:                      959.819   Durbin-Watson:                   0.185\n",
      "Prob(Omnibus):                  0.000   Jarque-Bera (JB):             4062.073\n",
      "Skew:                           0.103   Prob(JB):                         0.00\n",
      "Kurtosis:                       5.450   Cond. No.                     6.90e+03\n",
      "==============================================================================\n",
      "\n",
      "Warnings:\n",
      "[1] Standard Errors assume that the covariance matrix of the errors is correctly specified.\n",
      "[2] The condition number is large, 6.9e+03. This might indicate that there are\n",
      "strong multicollinearity or other numerical problems.\n",
      "[ 2.86268298e+01  2.71550357e-01  5.30658653e-02 -8.66546233e+00\n",
      " -1.43014007e-02 -6.47435954e-02 -5.99196415e-02 -5.84656083e-03\n",
      "  9.95109881e-02  8.66227116e-01 -2.01258347e-02]\n"
     ]
    }
   ],
   "source": []
  },
  {
   "cell_type": "markdown",
   "metadata": {},
   "source": [
    "<font size='20'>\n",
    "    <b>\n",
    "        Test\n",
    "    </b>\n",
    "</font>"
   ]
  },
  {
   "cell_type": "code",
   "execution_count": 8,
   "metadata": {},
   "outputs": [
    {
     "data": {
      "text/plain": [
       "<matplotlib.collections.PathCollection at 0x12650f160>"
      ]
     },
     "execution_count": 8,
     "metadata": {},
     "output_type": "execute_result"
    },
    {
     "data": {
      "image/png": "[encoded data removed]",
      "text/plain": [
       "<Figure size 432x288 with 1 Axes>"
      ]
     },
     "metadata": {
      "needs_background": "light"
     },
     "output_type": "display_data"
    }
   ],
   "source": [
    "w,v = eig(np.corrcoef(np.array([lt,k,feh,lg])))\n",
    "\n",
    "plt.scatter([1,2,3,4],w)"
   ]
  },
  {
   "cell_type": "code",
   "execution_count": 65,
   "metadata": {},
   "outputs": [
    {
     "name": "stdout",
     "output_type": "stream",
     "text": [
      "[0.84790777 0.14345444 0.00861556]\n",
      "[[ 1.72437172e-02  2.36449279e-02  9.25881632e-02]\n",
      " [ 9.27928798e-01 -6.78449769e-04 -3.72293882e-01]\n",
      " [-6.06925467e-03 -9.99596914e-01 -1.20598500e-02]\n",
      " [ 3.72308964e-01 -1.56992771e-02  9.23406334e-01]]\n"
     ]
    }
   ],
   "source": [
    "from sklearn.model_selection import train_test_split\n",
    "from sklearn import linear_model\n",
    "from sklearn.metrics import mean_squared_error\n",
    "\n",
    "pca = PCA(n_components=3)\n",
    "\n",
    "X = np.array([lt,k,feh,lg]).T\n",
    "factor=pca.fit(X)\n",
    "\n",
    "print(factor.explained_variance_ratio_)\n",
    "\n",
    "print(factor.components_.T)\n",
    "\n",
    "new_data2 = np.dot(X,factor.components_.T)\n",
    "\n",
    "xtrain, xtest, ytrain, ytest=train_test_split(new_data2, parsec['logAge'], test_size=0.25)"
   ]
  },
  {
   "cell_type": "code",
   "execution_count": 66,
   "metadata": {},
   "outputs": [
    {
     "name": "stdout",
     "output_type": "stream",
     "text": [
      "Lars(copy_X=True, eps=2.220446049250313e-16, fit_intercept=True,\n",
      "   fit_path=True, n_nonzero_coefs=500, normalize=True, positive=False,\n",
      "   precompute='auto', verbose=False)\n",
      "[ 0.05694982  0.02381887 -2.70621156]\n",
      "MSE: 0.003\n",
      "RMSE: 0.053\n"
     ]
    }
   ],
   "source": [
    "lars = linear_model.Lars().fit(xtrain, ytrain)\n",
    "print(lars)\n",
    "\n",
    "print(lars.coef_)\n",
    "\n",
    "ypred = lars.predict(xtest)\n",
    "mse = mean_squared_error(ytest, ypred)\n",
    "print(\"MSE: %.3f\" % mse)\n",
    "print(\"RMSE: %.3f\" % np.sqrt(mse))"
   ]
  },
  {
   "cell_type": "code",
   "execution_count": 67,
   "metadata": {},
   "outputs": [],
   "source": [
    "######################\n",
    "### Calculate Ages ###\n",
    "######################\n",
    "\n",
    "abd = {'C':8.39,'N':7.78,'O':8.66,'Mg':7.53,'Ca':6.31,'S':7.14,'Si':7.51,'Fe':7.45}\n",
    "keys = list(abd.keys())\n",
    "\n",
    "sol_2_H = []\n",
    "for i in keys:\n",
    "    sol_2_H.append(abd[i]-12.0)\n",
    "    \n",
    "sol_xm  = 10**np.asarray(sol_2_H)/sum(10**np.asarray(sol_2_H))\n",
    "x_C = []\n",
    "x_N = []\n",
    "x_O = []\n",
    "x_Mg = []\n",
    "x_Ca = []\n",
    "x_S = []\n",
    "x_Si = []\n",
    "x_Fe = []\n",
    "\n",
    "for i in range(len(r13)):\n",
    "    x_C.append(sol_xm[0]*10**(r13['C_FE'][i]+r13['FE_H'][i]-r13['M_H'][i]))\n",
    "    x_N.append(sol_xm[1]*10**(r13['N_FE'][i]+r13['FE_H'][i]-r13['M_H'][i]))\n",
    "    x_O.append(sol_xm[2]*10**(r13['O_FE'][i]+r13['FE_H'][i]-r13['M_H'][i]))\n",
    "    x_Mg.append(sol_xm[3]*10**(r13['Mg_FE'][i]+r13['FE_H'][i]-r13['M_H'][i]))\n",
    "    x_Ca.append(sol_xm[4]*10**(r13['Ca_FE'][i]+r13['FE_H'][i]-r13['M_H'][i]))\n",
    "    x_S.append(sol_xm[5]*10**(r13['S_FE'][i]+r13['FE_H'][i]-r13['M_H'][i]))\n",
    "    x_Si.append(sol_xm[6]*10**(r13['SI_FE'][i]+r13['FE_H'][i]-r13['M_H'][i]))\n",
    "    x_Fe.append(sol_xm[7]*10**(r13['FE_H'][i]-r13['M_H'][i]))\n",
    "    \n",
    "# facts = []\n",
    "# factsalp = []\n",
    "# factsCNO = []\n",
    "factsCN = []\n",
    "# factsCO = []\n",
    "for j in range(len(r13)):\n",
    "    numerCN = x_C[j]+x_N[j]\n",
    "    denomCN = sum(sol_xm[0:2])\n",
    "    \n",
    "#     numerCO = x_C[j]+x_O[j]\n",
    "#     denomCO = sol_xm[0]+sol_xm[2]\n",
    "factsCN.append(numerCN/denomCN)\n",
    "# factsCO.append(numerCO/denomCO)\n",
    "    \n",
    "factsCN = factsCN\n",
    "# factsCO = factsCO[0]\n",
    "\n",
    "metscorr = np.log10(0.638*(np.asarray(factsCN)+0.362))\n",
    "\n",
    "_, _, stardist = afunc.LMCdisk_cart(r13['RA'],r13['DEC'])\n",
    "corabsK = afunc.absmag(r13['K'],stardist)-r13['AK_TARG']\n",
    "\n",
    "dat = np.dot(np.array([np.log10(r13['TEFF']),corabsK,afunc.sal(r13['M_H'],metscorr),r13['LOGG']]).T,\n",
    "             factor.components_.T)\n",
    "\n",
    "ages = lars.predict(dat)"
   ]
  },
  {
   "cell_type": "code",
   "execution_count": 68,
   "metadata": {},
   "outputs": [
    {
     "data": {
      "text/plain": [
       "(array([1.000e+00, 0.000e+00, 1.000e+00, 9.000e+00, 9.500e+01, 1.660e+02,\n",
       "        6.340e+02, 1.583e+03, 9.700e+01, 2.000e+00]),\n",
       " array([ 3.58244777,  4.45384763,  5.32524748,  6.19664734,  7.0680472 ,\n",
       "         7.93944705,  8.81084691,  9.68224677, 10.55364662, 11.42504648,\n",
       "        12.29644633]),\n",
       " <a list of 10 Patch objects>)"
      ]
     },
     "execution_count": 68,
     "metadata": {},
     "output_type": "execute_result"
    },
    {
     "data": {
      "image/png": "[encoded data removed]",
      "text/plain": [
       "<Figure size 432x288 with 1 Axes>"
      ]
     },
     "metadata": {
      "needs_background": "light"
     },
     "output_type": "display_data"
    }
   ],
   "source": [
    "plt.hist(ages)"
   ]
  },
  {
   "cell_type": "code",
   "execution_count": 73,
   "metadata": {},
   "outputs": [
    {
     "data": {
      "text/plain": [
       "0.13987635239567234"
      ]
     },
     "execution_count": 73,
     "metadata": {},
     "output_type": "execute_result"
    }
   ],
   "source": [
    "len(np.squeeze(np.where(ages>10.35)))/len(ages)"
   ]
  },
  {
   "cell_type": "code",
   "execution_count": 12,
   "metadata": {},
   "outputs": [],
   "source": [
    "x1 = new_data2[:,0]\n",
    "x2 = new_data2[:,1]\n",
    "\n",
    "x12 = np.multiply(x1,x2)\n",
    "\n",
    "# x1sq = x1**2\n",
    "# x2sq = x2**2\n",
    "\n",
    "# x1cu = x1**3\n",
    "# x2cu = x2**3\n",
    "\n",
    "\n",
    "# models2 = []\n",
    "# models_str2 = []\n",
    "# all_var_str2 = ['x1','x2','x12','x1sq','x2sq']\n",
    "# all_var2 = [x1,x2,x12,x1sq,x2sq]\n",
    "# for i in range(4, len(all_var2)+1):\n",
    "#     for subset in it.combinations(all_var2,i):\n",
    "#         models2.append(subset)\n",
    "#     for subset_str in it.combinations(all_var_str2,i):\n",
    "#         models_str2.append(np.array(subset_str))\n",
    "        \n",
    "# models2 = np.array(models2)\n",
    "# models_str2 = np.array(models_str2)"
   ]
  },
  {
   "cell_type": "code",
   "execution_count": 36,
   "metadata": {},
   "outputs": [
    {
     "name": "stdout",
     "output_type": "stream",
     "text": [
      "                            OLS Regression Results                            \n",
      "==============================================================================\n",
      "Dep. Variable:                      y   R-squared:                       0.043\n",
      "Model:                            OLS   Adj. R-squared:                  0.043\n",
      "Method:                 Least Squares   F-statistic:                     240.2\n",
      "Date:                Sat, 11 Apr 2020   Prob (F-statistic):          1.86e-152\n",
      "Time:                        08:39:59   Log-Likelihood:                -12819.\n",
      "No. Observations:               16121   AIC:                         2.565e+04\n",
      "Df Residuals:                   16117   BIC:                         2.568e+04\n",
      "Df Model:                           3                                         \n",
      "Covariance Type:            nonrobust                                         \n",
      "==============================================================================\n",
      "                 coef    std err          t      P>|t|      [0.025      0.975]\n",
      "------------------------------------------------------------------------------\n",
      "const          9.4928      0.011    849.522      0.000       9.471       9.515\n",
      "x1             0.0600      0.004     15.085      0.000       0.052       0.068\n",
      "x2             0.0194      0.007      2.676      0.007       0.005       0.034\n",
      "x3            -0.0024      0.003     -0.890      0.374      -0.008       0.003\n",
      "==============================================================================\n",
      "Omnibus:                     1010.524   Durbin-Watson:                   0.031\n",
      "Prob(Omnibus):                  0.000   Jarque-Bera (JB):             1048.271\n",
      "Skew:                          -0.585   Prob(JB):                    2.35e-228\n",
      "Kurtosis:                       2.563   Cond. No.                         15.7\n",
      "==============================================================================\n",
      "\n",
      "Warnings:\n",
      "[1] Standard Errors assume that the covariance matrix of the errors is correctly specified.\n",
      "[ 9.49275449e+00  6.00387736e-02  1.94353340e-02 -2.37921361e-03]\n"
     ]
    }
   ],
   "source": [
    "exog = np.array([x1,x2,x12]).T\n",
    "exog_offset = sm.add_constant(exog)\n",
    "exog_model = sm.OLS(parsec['logAge'],exog_offset).fit()\n",
    "endog_predictions = exog_model.predict(exog_offset)\n",
    "endog_residual = endog_predictions - parsec['logAge']\n",
    "model_summary = exog_model.summary()\n",
    "print(model_summary)\n",
    "print(np.asarray(exog_model.params))"
   ]
  },
  {
   "cell_type": "code",
   "execution_count": 20,
   "metadata": {},
   "outputs": [
    {
     "data": {
      "application/vnd.jupyter.widget-view+json": {
       "model_id": "c485929cf9104c148b0ce4ed77af8742",
       "version_major": 2,
       "version_minor": 0
      },
      "text/plain": [
       "HBox(children=(IntProgress(value=0, description='Done?', max=6, style=ProgressStyle(description_width='initial…"
      ]
     },
     "metadata": {},
     "output_type": "display_data"
    },
    {
     "name": "stdout",
     "output_type": "stream",
     "text": [
      "\n"
     ]
    }
   ],
   "source": [
    "all_params2 = []\n",
    "max_resid2 = []\n",
    "gtest2 = []\n",
    "mads2 = []\n",
    "lae2 = []\n",
    "stde2 = []\n",
    "resids2 = []\n",
    "predict2 = []\n",
    "for i in tqdm_notebook(range(len(models2)),desc='Done?'):\n",
    "    pmodl = np.array(models2[i]).T\n",
    "    pmodl = sm.add_constant(pmodl)\n",
    "    model = sm.OLS(parsec['logAge'],pmodl).fit()\n",
    "    predictions = model.predict(pmodl)\n",
    "    predict2.append(predictions)\n",
    "    residual = predictions - parsec['logAge']\n",
    "    resids2.append(residual)\n",
    "    all_params2.append(np.asarray(model.params))\n",
    "    max_resid2.append(np.max(np.absolute(residual)))\n",
    "    gtest2.append(2*np.sum(predictions*np.log(np.divide(predictions,parsec['logAge']))))\n",
    "    mads2.append(afunc.mad(residual))\n",
    "    lae2.append(np.sum(np.absolute(residual)))\n",
    "    stde2.append(model.bse)"
   ]
  },
  {
   "cell_type": "code",
   "execution_count": 19,
   "metadata": {},
   "outputs": [
    {
     "name": "stdout",
     "output_type": "stream",
     "text": [
      "['x2' 'x12' 'x1sq' 'x2sq']\n"
     ]
    },
    {
     "data": {
      "text/plain": [
       "4"
      ]
     },
     "execution_count": 19,
     "metadata": {},
     "output_type": "execute_result"
    }
   ],
   "source": [
    "print(models_str2[np.asarray(mads2).argmin()])\n",
    "np.asarray(mads2).argmin()"
   ]
  },
  {
   "cell_type": "code",
   "execution_count": 21,
   "metadata": {},
   "outputs": [],
   "source": [
    "def two_factor_age(z1,z2):\n",
    "    return all_params2[4][0]+all_params2[4][1]*z2+all_params2[4][2]*np.multiply(z1,z2)+all_params2[4][3]*z1**2+all_params2[4][4]*z2**2"
   ]
  },
  {
   "cell_type": "code",
   "execution_count": 22,
   "metadata": {},
   "outputs": [],
   "source": [
    "corabsK = afunc.absmag(r13['K'],stardist)-r13['AK_TARG']\n",
    "\n",
    "dat2 = np.dot(np.array([np.log10(r13['TEFF']),corabsK,afunc.sal(r13['M_H'],metscorr),r13['LOGG']]).T,\n",
    "             factor2.components_.T)\n",
    "\n",
    "parage2 = two_factor_age(dat2[:,0],dat2[:,1])"
   ]
  },
  {
   "cell_type": "code",
   "execution_count": 26,
   "metadata": {},
   "outputs": [
    {
     "data": {
      "text/plain": [
       "(array([  7.,  14.,  33., 107., 294., 468., 618., 686., 317.,  44.]),\n",
       " array([1.51460313, 1.67998844, 1.84537376, 2.01075907, 2.17614439,\n",
       "        2.3415297 , 2.50691501, 2.67230033, 2.83768564, 3.00307096,\n",
       "        3.16845627]),\n",
       " <a list of 10 Patch objects>)"
      ]
     },
     "execution_count": 26,
     "metadata": {},
     "output_type": "execute_result"
    },
    {
     "data": {
      "image/png": "[encoded data removed]",
      "text/plain": [
       "<Figure size 864x720 with 1 Axes>"
      ]
     },
     "metadata": {
      "needs_background": "light"
     },
     "output_type": "display_data"
    }
   ],
   "source": [
    "plt.figure(figsize=[12,10])\n",
    "plt.hist(10**parage2/10**9)\n",
    "# plt.xscale('log')"
   ]
  },
  {
   "cell_type": "code",
   "execution_count": 74,
   "metadata": {},
   "outputs": [
    {
     "name": "stdout",
     "output_type": "stream",
     "text": [
      "[[ 1.          0.74980371 -0.44521252  0.83745811  0.99996428 -0.79002404\n",
      "   0.38457586  0.7609749 ]\n",
      " [ 0.74980371  1.         -0.01432773  0.95941514  0.75097846 -0.93848021\n",
      "   0.01107543  0.959863  ]\n",
      " [-0.44521252 -0.01432773  1.          0.00178789 -0.44577893  0.05579543\n",
      "  -0.96859103  0.03200788]\n",
      " [ 0.83745811  0.95941514  0.00178789  1.          0.83836521 -0.92264339\n",
      "  -0.00248702  0.97290015]\n",
      " [ 0.99996428  0.75097846 -0.44577893  0.83836521  1.         -0.78974894\n",
      "   0.38521402  0.76301774]\n",
      " [-0.79002404 -0.93848021  0.05579543 -0.92264339 -0.78974894  1.\n",
      "  -0.04744049 -0.84993571]\n",
      " [ 0.38457586  0.01107543 -0.96859103 -0.00248702  0.38521402 -0.04744049\n",
      "   1.         -0.02887581]\n",
      " [ 0.7609749   0.959863    0.03200788  0.97290015  0.76301774 -0.84993571\n",
      "  -0.02887581  1.        ]]\n"
     ]
    }
   ],
   "source": [
    "print(np.corrcoef(np.array([lt,k,feh,lg,lt**2,k**2,feh**2,lg**2])))"
   ]
  },
  {
   "cell_type": "code",
   "execution_count": null,
   "metadata": {},
   "outputs": [],
   "source": []
  }
 ],
 "metadata": {
  "kernelspec": {
   "display_name": "Python 3",
   "language": "python",
   "name": "python3"
  },
  "language_info": {
   "codemirror_mode": {
    "name": "ipython",
    "version": 3
   },
   "file_extension": ".py",
   "mimetype": "text/x-python",
   "name": "python",
   "nbconvert_exporter": "python",
   "pygments_lexer": "ipython3",
   "version": "3.7.1"
  }
 },
 "nbformat": 4,
 "nbformat_minor": 2
}
